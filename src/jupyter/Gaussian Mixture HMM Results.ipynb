{
 "cells": [
  {
   "cell_type": "markdown",
   "metadata": {},
   "source": [
    "# GOAL\n",
    "\n",
    "Examine the copy number states on clonal 3D7 samples predicted by a Gaussian Mixture HMM using similar methods as published papers on WGS anopheles and Plasmodium falciparum datasets, where read coverage in a window is only normalized by GC content. Compare the predictions across 3D7 samples prepared through WGS, gDNA (leukodpleted and unamplified), and sWGA protocols."
   ]
  },
  {
   "cell_type": "code",
   "execution_count": 28,
   "metadata": {
    "collapsed": true
   },
   "outputs": [],
   "source": [
    "import os\n",
    "import os\n",
    "import glob\n",
    "import re\n",
    "import pandas\n",
    "from IPython.display import display, HTML\n",
    "\n",
    "import matplotlib.pyplot as plt\n",
    "import numpy as np\n",
    "import seaborn as sns\n",
    "\n",
    "from hmmlearn import hmm\n",
    "import scipy.stats\n",
    "# from sklearn import hmm"
   ]
  },
  {
   "cell_type": "code",
   "execution_count": 29,
   "metadata": {},
   "outputs": [
    {
     "data": {
      "text/plain": [
       "'/Users/tn6/gitrepo/pf_swga_cnv/data/pysamstats_gc/3D7_10-T1.12978906.unknown.pysamstats_gc.txt'"
      ]
     },
     "execution_count": 29,
     "metadata": {},
     "output_type": "execute_result"
    }
   ],
   "source": [
    "pysam_stats_tsv = os.path.abspath(os.getcwd() + \"/../../data/pysamstats_gc/3D7_10-T1.12978906.unknown.pysamstats_gc.txt\")\n",
    "pysam_stats_tsv"
   ]
  },
  {
   "cell_type": "code",
   "execution_count": 30,
   "metadata": {
    "collapsed": true
   },
   "outputs": [],
   "source": [
    "pysam_stats = pandas.read_csv(pysam_stats_tsv, sep=\"\\t\")\n",
    "pysam_stats = pysam_stats.set_index([\"chrom\", \"pos\"])\n",
    "pysam_stats.index.names  = [\"chrom\", \"pos\"]"
   ]
  },
  {
   "cell_type": "code",
   "execution_count": 31,
   "metadata": {
    "collapsed": true
   },
   "outputs": [],
   "source": [
    "# chrom5 = pysam_stats[pysam_stats.index.get_level_values(\"chrom\") == \"Pf3D7_05_v3\"]\n",
    "# chrom5.describe()"
   ]
  },
  {
   "cell_type": "code",
   "execution_count": 32,
   "metadata": {
    "collapsed": true
   },
   "outputs": [],
   "source": [
    "# chrom5.shape"
   ]
  },
  {
   "cell_type": "code",
   "execution_count": 33,
   "metadata": {
    "collapsed": true
   },
   "outputs": [],
   "source": [
    "# chrom5.head()"
   ]
  },
  {
   "cell_type": "code",
   "execution_count": 34,
   "metadata": {},
   "outputs": [
    {
     "data": {
      "text/plain": [
       "'/Users/tn6/gitrepo/pf_swga_cnv/data/swga.Pf3D7_05_v3.pysamstats.gc.txt'"
      ]
     },
     "execution_count": 34,
     "metadata": {},
     "output_type": "execute_result"
    }
   ],
   "source": [
    "pysam_gc_stats_tsv = os.path.abspath(os.getcwd() + \"/../../data/swga.Pf3D7_05_v3.pysamstats.gc.txt\")\n",
    "pysam_gc_stats_tsv"
   ]
  },
  {
   "cell_type": "code",
   "execution_count": 35,
   "metadata": {
    "collapsed": true
   },
   "outputs": [],
   "source": [
    "# Per-position GC content, read coverage.  \n",
    "# We don't care about properly paired reads here, since there could be \n",
    "# inversions, deletions, insertions that alter orientation of read pairs.\n",
    "pysam_gc = pandas.read_csv(pysam_gc_stats_tsv, sep=\"\\t\")\n",
    "# Indicate the window start position\n",
    "pysam_gc[\"window\"] =  300 * (pysam_gc.pos // 300)"
   ]
  },
  {
   "cell_type": "code",
   "execution_count": 36,
   "metadata": {},
   "outputs": [
    {
     "data": {
      "text/plain": [
       "(1317309, 6)"
      ]
     },
     "metadata": {},
     "output_type": "display_data"
    },
    {
     "data": {
      "text/html": [
       "<div>\n",
       "<style>\n",
       "    .dataframe thead tr:only-child th {\n",
       "        text-align: right;\n",
       "    }\n",
       "\n",
       "    .dataframe thead th {\n",
       "        text-align: left;\n",
       "    }\n",
       "\n",
       "    .dataframe tbody tr th {\n",
       "        vertical-align: top;\n",
       "    }\n",
       "</style>\n",
       "<table border=\"1\" class=\"dataframe\">\n",
       "  <thead>\n",
       "    <tr style=\"text-align: right;\">\n",
       "      <th></th>\n",
       "      <th>chrom</th>\n",
       "      <th>pos</th>\n",
       "      <th>gc</th>\n",
       "      <th>reads_all</th>\n",
       "      <th>reads_pp</th>\n",
       "      <th>window</th>\n",
       "    </tr>\n",
       "  </thead>\n",
       "  <tbody>\n",
       "    <tr>\n",
       "      <th>0</th>\n",
       "      <td>Pf3D7_05_v3</td>\n",
       "      <td>1602</td>\n",
       "      <td>32</td>\n",
       "      <td>1</td>\n",
       "      <td>0</td>\n",
       "      <td>1500</td>\n",
       "    </tr>\n",
       "    <tr>\n",
       "      <th>1</th>\n",
       "      <td>Pf3D7_05_v3</td>\n",
       "      <td>1603</td>\n",
       "      <td>32</td>\n",
       "      <td>1</td>\n",
       "      <td>0</td>\n",
       "      <td>1500</td>\n",
       "    </tr>\n",
       "    <tr>\n",
       "      <th>2</th>\n",
       "      <td>Pf3D7_05_v3</td>\n",
       "      <td>1604</td>\n",
       "      <td>32</td>\n",
       "      <td>1</td>\n",
       "      <td>0</td>\n",
       "      <td>1500</td>\n",
       "    </tr>\n",
       "    <tr>\n",
       "      <th>3</th>\n",
       "      <td>Pf3D7_05_v3</td>\n",
       "      <td>1605</td>\n",
       "      <td>32</td>\n",
       "      <td>1</td>\n",
       "      <td>0</td>\n",
       "      <td>1500</td>\n",
       "    </tr>\n",
       "    <tr>\n",
       "      <th>4</th>\n",
       "      <td>Pf3D7_05_v3</td>\n",
       "      <td>1606</td>\n",
       "      <td>32</td>\n",
       "      <td>1</td>\n",
       "      <td>0</td>\n",
       "      <td>1500</td>\n",
       "    </tr>\n",
       "  </tbody>\n",
       "</table>\n",
       "</div>"
      ],
      "text/plain": [
       "         chrom   pos  gc  reads_all  reads_pp  window\n",
       "0  Pf3D7_05_v3  1602  32          1         0    1500\n",
       "1  Pf3D7_05_v3  1603  32          1         0    1500\n",
       "2  Pf3D7_05_v3  1604  32          1         0    1500\n",
       "3  Pf3D7_05_v3  1605  32          1         0    1500\n",
       "4  Pf3D7_05_v3  1606  32          1         0    1500"
      ]
     },
     "metadata": {},
     "output_type": "display_data"
    },
    {
     "data": {
      "text/html": [
       "<div>\n",
       "<style>\n",
       "    .dataframe thead tr:only-child th {\n",
       "        text-align: right;\n",
       "    }\n",
       "\n",
       "    .dataframe thead th {\n",
       "        text-align: left;\n",
       "    }\n",
       "\n",
       "    .dataframe tbody tr th {\n",
       "        vertical-align: top;\n",
       "    }\n",
       "</style>\n",
       "<table border=\"1\" class=\"dataframe\">\n",
       "  <thead>\n",
       "    <tr style=\"text-align: right;\">\n",
       "      <th></th>\n",
       "      <th>pos</th>\n",
       "      <th>gc</th>\n",
       "      <th>reads_all</th>\n",
       "      <th>reads_pp</th>\n",
       "      <th>window</th>\n",
       "    </tr>\n",
       "  </thead>\n",
       "  <tbody>\n",
       "    <tr>\n",
       "      <th>count</th>\n",
       "      <td>1.317309e+06</td>\n",
       "      <td>1.317309e+06</td>\n",
       "      <td>1.317309e+06</td>\n",
       "      <td>1.317309e+06</td>\n",
       "      <td>1.317309e+06</td>\n",
       "    </tr>\n",
       "    <tr>\n",
       "      <th>mean</th>\n",
       "      <td>6.831478e+05</td>\n",
       "      <td>1.905715e+01</td>\n",
       "      <td>2.623306e+02</td>\n",
       "      <td>2.507008e+02</td>\n",
       "      <td>6.829983e+05</td>\n",
       "    </tr>\n",
       "    <tr>\n",
       "      <th>std</th>\n",
       "      <td>3.806844e+05</td>\n",
       "      <td>6.267258e+00</td>\n",
       "      <td>2.775215e+02</td>\n",
       "      <td>2.640337e+02</td>\n",
       "      <td>3.806844e+05</td>\n",
       "    </tr>\n",
       "    <tr>\n",
       "      <th>min</th>\n",
       "      <td>1.602000e+03</td>\n",
       "      <td>1.000000e+00</td>\n",
       "      <td>1.000000e+00</td>\n",
       "      <td>0.000000e+00</td>\n",
       "      <td>1.500000e+03</td>\n",
       "    </tr>\n",
       "    <tr>\n",
       "      <th>25%</th>\n",
       "      <td>3.534650e+05</td>\n",
       "      <td>1.400000e+01</td>\n",
       "      <td>1.030000e+02</td>\n",
       "      <td>9.800000e+01</td>\n",
       "      <td>3.534000e+05</td>\n",
       "    </tr>\n",
       "    <tr>\n",
       "      <th>50%</th>\n",
       "      <td>6.833370e+05</td>\n",
       "      <td>1.900000e+01</td>\n",
       "      <td>1.840000e+02</td>\n",
       "      <td>1.760000e+02</td>\n",
       "      <td>6.831000e+05</td>\n",
       "    </tr>\n",
       "    <tr>\n",
       "      <th>75%</th>\n",
       "      <td>1.012664e+06</td>\n",
       "      <td>2.300000e+01</td>\n",
       "      <td>3.240000e+02</td>\n",
       "      <td>3.100000e+02</td>\n",
       "      <td>1.012500e+06</td>\n",
       "    </tr>\n",
       "    <tr>\n",
       "      <th>max</th>\n",
       "      <td>1.342946e+06</td>\n",
       "      <td>5.700000e+01</td>\n",
       "      <td>3.621000e+03</td>\n",
       "      <td>3.509000e+03</td>\n",
       "      <td>1.342800e+06</td>\n",
       "    </tr>\n",
       "  </tbody>\n",
       "</table>\n",
       "</div>"
      ],
      "text/plain": [
       "                pos            gc     reads_all      reads_pp        window\n",
       "count  1.317309e+06  1.317309e+06  1.317309e+06  1.317309e+06  1.317309e+06\n",
       "mean   6.831478e+05  1.905715e+01  2.623306e+02  2.507008e+02  6.829983e+05\n",
       "std    3.806844e+05  6.267258e+00  2.775215e+02  2.640337e+02  3.806844e+05\n",
       "min    1.602000e+03  1.000000e+00  1.000000e+00  0.000000e+00  1.500000e+03\n",
       "25%    3.534650e+05  1.400000e+01  1.030000e+02  9.800000e+01  3.534000e+05\n",
       "50%    6.833370e+05  1.900000e+01  1.840000e+02  1.760000e+02  6.831000e+05\n",
       "75%    1.012664e+06  2.300000e+01  3.240000e+02  3.100000e+02  1.012500e+06\n",
       "max    1.342946e+06  5.700000e+01  3.621000e+03  3.509000e+03  1.342800e+06"
      ]
     },
     "metadata": {},
     "output_type": "display_data"
    }
   ],
   "source": [
    "display(pysam_gc.shape)\n",
    "display(pysam_gc.head())\n",
    "display(pysam_gc.describe())"
   ]
  },
  {
   "cell_type": "code",
   "execution_count": 37,
   "metadata": {},
   "outputs": [
    {
     "name": "stderr",
     "output_type": "stream",
     "text": [
      "/Users/tn6/anaconda3/envs/analysis_py35_mac/lib/python3.5/site-packages/pandas/core/groupby.py:4036: FutureWarning: using a dict with renaming is deprecated and will be removed in a future version\n",
      "  return super(DataFrameGroupBy, self).aggregate(arg, *args, **kwargs)\n"
     ]
    },
    {
     "data": {
      "text/html": [
       "<div>\n",
       "<style>\n",
       "    .dataframe thead tr:only-child th {\n",
       "        text-align: right;\n",
       "    }\n",
       "\n",
       "    .dataframe thead th {\n",
       "        text-align: left;\n",
       "    }\n",
       "\n",
       "    .dataframe tbody tr th {\n",
       "        vertical-align: top;\n",
       "    }\n",
       "</style>\n",
       "<table border=\"1\" class=\"dataframe\">\n",
       "  <thead>\n",
       "    <tr style=\"text-align: right;\">\n",
       "      <th></th>\n",
       "      <th>reads_all_win_mean</th>\n",
       "      <th>reads_all_win_med</th>\n",
       "      <th>gc_win_med</th>\n",
       "      <th>gc_win_mean</th>\n",
       "      <th>gc_bin</th>\n",
       "    </tr>\n",
       "    <tr>\n",
       "      <th>window</th>\n",
       "      <th></th>\n",
       "      <th></th>\n",
       "      <th></th>\n",
       "      <th></th>\n",
       "      <th></th>\n",
       "    </tr>\n",
       "  </thead>\n",
       "  <tbody>\n",
       "    <tr>\n",
       "      <th>1500</th>\n",
       "      <td>1.000000</td>\n",
       "      <td>1.0</td>\n",
       "      <td>33.0</td>\n",
       "      <td>32.980132</td>\n",
       "      <td>30.0</td>\n",
       "    </tr>\n",
       "    <tr>\n",
       "      <th>2700</th>\n",
       "      <td>1.687023</td>\n",
       "      <td>2.0</td>\n",
       "      <td>30.0</td>\n",
       "      <td>30.236641</td>\n",
       "      <td>30.0</td>\n",
       "    </tr>\n",
       "    <tr>\n",
       "      <th>3000</th>\n",
       "      <td>1.000000</td>\n",
       "      <td>1.0</td>\n",
       "      <td>31.0</td>\n",
       "      <td>31.181818</td>\n",
       "      <td>30.0</td>\n",
       "    </tr>\n",
       "    <tr>\n",
       "      <th>4500</th>\n",
       "      <td>1.000000</td>\n",
       "      <td>1.0</td>\n",
       "      <td>31.0</td>\n",
       "      <td>31.124138</td>\n",
       "      <td>30.0</td>\n",
       "    </tr>\n",
       "    <tr>\n",
       "      <th>4800</th>\n",
       "      <td>1.000000</td>\n",
       "      <td>1.0</td>\n",
       "      <td>32.0</td>\n",
       "      <td>32.473684</td>\n",
       "      <td>30.0</td>\n",
       "    </tr>\n",
       "  </tbody>\n",
       "</table>\n",
       "</div>"
      ],
      "text/plain": [
       "        reads_all_win_mean  reads_all_win_med  gc_win_med  gc_win_mean  gc_bin\n",
       "window                                                                        \n",
       "1500              1.000000                1.0        33.0    32.980132    30.0\n",
       "2700              1.687023                2.0        30.0    30.236641    30.0\n",
       "3000              1.000000                1.0        31.0    31.181818    30.0\n",
       "4500              1.000000                1.0        31.0    31.124138    30.0\n",
       "4800              1.000000                1.0        32.0    32.473684    30.0"
      ]
     },
     "execution_count": 37,
     "metadata": {},
     "output_type": "execute_result"
    }
   ],
   "source": [
    "pysam_gc_win = pysam_gc.groupby(\"window\").agg({'gc': {\"gc_win_med\": \"median\", 'gc_win_mean': \"mean\"},\n",
    "                                              'reads_all': {\"reads_all_win_med\": \"median\", \n",
    "                                                            'reads_all_win_mean': \"mean\"}})\n",
    "pysam_gc_win.columns = pysam_gc_win.columns.droplevel()\n",
    "pysam_gc_win[\"gc_bin\"] = 10 * (pysam_gc_win[\"gc_win_mean\"] //10)\n",
    "pysam_gc_win.head()"
   ]
  },
  {
   "cell_type": "code",
   "execution_count": 38,
   "metadata": {},
   "outputs": [
    {
     "data": {
      "text/plain": [
       "(4405, 5)"
      ]
     },
     "execution_count": 38,
     "metadata": {},
     "output_type": "execute_result"
    }
   ],
   "source": [
    "pysam_gc_win.shape"
   ]
  },
  {
   "cell_type": "code",
   "execution_count": 39,
   "metadata": {},
   "outputs": [
    {
     "data": {
      "text/html": [
       "<div>\n",
       "<style>\n",
       "    .dataframe thead tr:only-child th {\n",
       "        text-align: right;\n",
       "    }\n",
       "\n",
       "    .dataframe thead th {\n",
       "        text-align: left;\n",
       "    }\n",
       "\n",
       "    .dataframe tbody tr th {\n",
       "        vertical-align: top;\n",
       "    }\n",
       "</style>\n",
       "<table border=\"1\" class=\"dataframe\">\n",
       "  <thead>\n",
       "    <tr style=\"text-align: right;\">\n",
       "      <th></th>\n",
       "      <th>reads_all_win_mean</th>\n",
       "      <th>reads_all_win_med</th>\n",
       "      <th>gc_win_med</th>\n",
       "      <th>gc_win_mean</th>\n",
       "      <th>gc_bin</th>\n",
       "    </tr>\n",
       "  </thead>\n",
       "  <tbody>\n",
       "    <tr>\n",
       "      <th>count</th>\n",
       "      <td>4405.000000</td>\n",
       "      <td>4405.000000</td>\n",
       "      <td>4405.000000</td>\n",
       "      <td>4405.000000</td>\n",
       "      <td>4405.000000</td>\n",
       "    </tr>\n",
       "    <tr>\n",
       "      <th>mean</th>\n",
       "      <td>261.507023</td>\n",
       "      <td>261.635528</td>\n",
       "      <td>19.086152</td>\n",
       "      <td>19.091481</td>\n",
       "      <td>14.281498</td>\n",
       "    </tr>\n",
       "    <tr>\n",
       "      <th>std</th>\n",
       "      <td>273.069246</td>\n",
       "      <td>274.247315</td>\n",
       "      <td>6.060680</td>\n",
       "      <td>5.939678</td>\n",
       "      <td>6.506668</td>\n",
       "    </tr>\n",
       "    <tr>\n",
       "      <th>min</th>\n",
       "      <td>1.000000</td>\n",
       "      <td>1.000000</td>\n",
       "      <td>1.000000</td>\n",
       "      <td>1.573333</td>\n",
       "      <td>0.000000</td>\n",
       "    </tr>\n",
       "    <tr>\n",
       "      <th>25%</th>\n",
       "      <td>105.080000</td>\n",
       "      <td>104.000000</td>\n",
       "      <td>15.000000</td>\n",
       "      <td>14.663333</td>\n",
       "      <td>10.000000</td>\n",
       "    </tr>\n",
       "    <tr>\n",
       "      <th>50%</th>\n",
       "      <td>184.810000</td>\n",
       "      <td>185.000000</td>\n",
       "      <td>19.000000</td>\n",
       "      <td>18.846667</td>\n",
       "      <td>10.000000</td>\n",
       "    </tr>\n",
       "    <tr>\n",
       "      <th>75%</th>\n",
       "      <td>321.793333</td>\n",
       "      <td>322.000000</td>\n",
       "      <td>23.000000</td>\n",
       "      <td>22.640000</td>\n",
       "      <td>20.000000</td>\n",
       "    </tr>\n",
       "    <tr>\n",
       "      <th>max</th>\n",
       "      <td>3171.200000</td>\n",
       "      <td>3149.000000</td>\n",
       "      <td>50.000000</td>\n",
       "      <td>46.883333</td>\n",
       "      <td>40.000000</td>\n",
       "    </tr>\n",
       "  </tbody>\n",
       "</table>\n",
       "</div>"
      ],
      "text/plain": [
       "       reads_all_win_mean  reads_all_win_med   gc_win_med  gc_win_mean  \\\n",
       "count         4405.000000        4405.000000  4405.000000  4405.000000   \n",
       "mean           261.507023         261.635528    19.086152    19.091481   \n",
       "std            273.069246         274.247315     6.060680     5.939678   \n",
       "min              1.000000           1.000000     1.000000     1.573333   \n",
       "25%            105.080000         104.000000    15.000000    14.663333   \n",
       "50%            184.810000         185.000000    19.000000    18.846667   \n",
       "75%            321.793333         322.000000    23.000000    22.640000   \n",
       "max           3171.200000        3149.000000    50.000000    46.883333   \n",
       "\n",
       "            gc_bin  \n",
       "count  4405.000000  \n",
       "mean     14.281498  \n",
       "std       6.506668  \n",
       "min       0.000000  \n",
       "25%      10.000000  \n",
       "50%      10.000000  \n",
       "75%      20.000000  \n",
       "max      40.000000  "
      ]
     },
     "execution_count": 39,
     "metadata": {},
     "output_type": "execute_result"
    }
   ],
   "source": [
    "pysam_gc_win.describe()"
   ]
  },
  {
   "cell_type": "code",
   "execution_count": 40,
   "metadata": {},
   "outputs": [
    {
     "data": {
      "text/plain": [
       "(1317309, 7)"
      ]
     },
     "metadata": {},
     "output_type": "display_data"
    },
    {
     "data": {
      "text/html": [
       "<div>\n",
       "<style>\n",
       "    .dataframe thead tr:only-child th {\n",
       "        text-align: right;\n",
       "    }\n",
       "\n",
       "    .dataframe thead th {\n",
       "        text-align: left;\n",
       "    }\n",
       "\n",
       "    .dataframe tbody tr th {\n",
       "        vertical-align: top;\n",
       "    }\n",
       "</style>\n",
       "<table border=\"1\" class=\"dataframe\">\n",
       "  <thead>\n",
       "    <tr style=\"text-align: right;\">\n",
       "      <th></th>\n",
       "      <th>index</th>\n",
       "      <th>chrom</th>\n",
       "      <th>pos</th>\n",
       "      <th>gc</th>\n",
       "      <th>reads_all</th>\n",
       "      <th>reads_pp</th>\n",
       "      <th>gc_bin</th>\n",
       "    </tr>\n",
       "    <tr>\n",
       "      <th>window</th>\n",
       "      <th></th>\n",
       "      <th></th>\n",
       "      <th></th>\n",
       "      <th></th>\n",
       "      <th></th>\n",
       "      <th></th>\n",
       "      <th></th>\n",
       "    </tr>\n",
       "  </thead>\n",
       "  <tbody>\n",
       "    <tr>\n",
       "      <th>1500</th>\n",
       "      <td>0</td>\n",
       "      <td>Pf3D7_05_v3</td>\n",
       "      <td>1602</td>\n",
       "      <td>32</td>\n",
       "      <td>1</td>\n",
       "      <td>0</td>\n",
       "      <td>30.0</td>\n",
       "    </tr>\n",
       "    <tr>\n",
       "      <th>1500</th>\n",
       "      <td>1</td>\n",
       "      <td>Pf3D7_05_v3</td>\n",
       "      <td>1603</td>\n",
       "      <td>32</td>\n",
       "      <td>1</td>\n",
       "      <td>0</td>\n",
       "      <td>30.0</td>\n",
       "    </tr>\n",
       "    <tr>\n",
       "      <th>1500</th>\n",
       "      <td>2</td>\n",
       "      <td>Pf3D7_05_v3</td>\n",
       "      <td>1604</td>\n",
       "      <td>32</td>\n",
       "      <td>1</td>\n",
       "      <td>0</td>\n",
       "      <td>30.0</td>\n",
       "    </tr>\n",
       "    <tr>\n",
       "      <th>1500</th>\n",
       "      <td>3</td>\n",
       "      <td>Pf3D7_05_v3</td>\n",
       "      <td>1605</td>\n",
       "      <td>32</td>\n",
       "      <td>1</td>\n",
       "      <td>0</td>\n",
       "      <td>30.0</td>\n",
       "    </tr>\n",
       "    <tr>\n",
       "      <th>1500</th>\n",
       "      <td>4</td>\n",
       "      <td>Pf3D7_05_v3</td>\n",
       "      <td>1606</td>\n",
       "      <td>32</td>\n",
       "      <td>1</td>\n",
       "      <td>0</td>\n",
       "      <td>30.0</td>\n",
       "    </tr>\n",
       "  </tbody>\n",
       "</table>\n",
       "</div>"
      ],
      "text/plain": [
       "        index        chrom   pos  gc  reads_all  reads_pp  gc_bin\n",
       "window                                                           \n",
       "1500        0  Pf3D7_05_v3  1602  32          1         0    30.0\n",
       "1500        1  Pf3D7_05_v3  1603  32          1         0    30.0\n",
       "1500        2  Pf3D7_05_v3  1604  32          1         0    30.0\n",
       "1500        3  Pf3D7_05_v3  1605  32          1         0    30.0\n",
       "1500        4  Pf3D7_05_v3  1606  32          1         0    30.0"
      ]
     },
     "metadata": {},
     "output_type": "display_data"
    },
    {
     "data": {
      "text/html": [
       "<div>\n",
       "<style>\n",
       "    .dataframe thead tr:only-child th {\n",
       "        text-align: right;\n",
       "    }\n",
       "\n",
       "    .dataframe thead th {\n",
       "        text-align: left;\n",
       "    }\n",
       "\n",
       "    .dataframe tbody tr th {\n",
       "        vertical-align: top;\n",
       "    }\n",
       "</style>\n",
       "<table border=\"1\" class=\"dataframe\">\n",
       "  <thead>\n",
       "    <tr style=\"text-align: right;\">\n",
       "      <th></th>\n",
       "      <th>index</th>\n",
       "      <th>pos</th>\n",
       "      <th>gc</th>\n",
       "      <th>reads_all</th>\n",
       "      <th>reads_pp</th>\n",
       "      <th>gc_bin</th>\n",
       "    </tr>\n",
       "  </thead>\n",
       "  <tbody>\n",
       "    <tr>\n",
       "      <th>count</th>\n",
       "      <td>1.317309e+06</td>\n",
       "      <td>1.317309e+06</td>\n",
       "      <td>1.317309e+06</td>\n",
       "      <td>1.317309e+06</td>\n",
       "      <td>1.317309e+06</td>\n",
       "      <td>1.317309e+06</td>\n",
       "    </tr>\n",
       "    <tr>\n",
       "      <th>mean</th>\n",
       "      <td>6.586540e+05</td>\n",
       "      <td>6.831478e+05</td>\n",
       "      <td>1.905715e+01</td>\n",
       "      <td>2.623306e+02</td>\n",
       "      <td>2.507008e+02</td>\n",
       "      <td>1.424421e+01</td>\n",
       "    </tr>\n",
       "    <tr>\n",
       "      <th>std</th>\n",
       "      <td>3.802745e+05</td>\n",
       "      <td>3.806844e+05</td>\n",
       "      <td>6.267258e+00</td>\n",
       "      <td>2.775215e+02</td>\n",
       "      <td>2.640337e+02</td>\n",
       "      <td>6.458242e+00</td>\n",
       "    </tr>\n",
       "    <tr>\n",
       "      <th>min</th>\n",
       "      <td>0.000000e+00</td>\n",
       "      <td>1.602000e+03</td>\n",
       "      <td>1.000000e+00</td>\n",
       "      <td>1.000000e+00</td>\n",
       "      <td>0.000000e+00</td>\n",
       "      <td>0.000000e+00</td>\n",
       "    </tr>\n",
       "    <tr>\n",
       "      <th>25%</th>\n",
       "      <td>3.293270e+05</td>\n",
       "      <td>3.534650e+05</td>\n",
       "      <td>1.400000e+01</td>\n",
       "      <td>1.030000e+02</td>\n",
       "      <td>9.800000e+01</td>\n",
       "      <td>1.000000e+01</td>\n",
       "    </tr>\n",
       "    <tr>\n",
       "      <th>50%</th>\n",
       "      <td>6.586540e+05</td>\n",
       "      <td>6.833370e+05</td>\n",
       "      <td>1.900000e+01</td>\n",
       "      <td>1.840000e+02</td>\n",
       "      <td>1.760000e+02</td>\n",
       "      <td>1.000000e+01</td>\n",
       "    </tr>\n",
       "    <tr>\n",
       "      <th>75%</th>\n",
       "      <td>9.879810e+05</td>\n",
       "      <td>1.012664e+06</td>\n",
       "      <td>2.300000e+01</td>\n",
       "      <td>3.240000e+02</td>\n",
       "      <td>3.100000e+02</td>\n",
       "      <td>2.000000e+01</td>\n",
       "    </tr>\n",
       "    <tr>\n",
       "      <th>max</th>\n",
       "      <td>1.317308e+06</td>\n",
       "      <td>1.342946e+06</td>\n",
       "      <td>5.700000e+01</td>\n",
       "      <td>3.621000e+03</td>\n",
       "      <td>3.509000e+03</td>\n",
       "      <td>4.000000e+01</td>\n",
       "    </tr>\n",
       "  </tbody>\n",
       "</table>\n",
       "</div>"
      ],
      "text/plain": [
       "              index           pos            gc     reads_all      reads_pp  \\\n",
       "count  1.317309e+06  1.317309e+06  1.317309e+06  1.317309e+06  1.317309e+06   \n",
       "mean   6.586540e+05  6.831478e+05  1.905715e+01  2.623306e+02  2.507008e+02   \n",
       "std    3.802745e+05  3.806844e+05  6.267258e+00  2.775215e+02  2.640337e+02   \n",
       "min    0.000000e+00  1.602000e+03  1.000000e+00  1.000000e+00  0.000000e+00   \n",
       "25%    3.293270e+05  3.534650e+05  1.400000e+01  1.030000e+02  9.800000e+01   \n",
       "50%    6.586540e+05  6.833370e+05  1.900000e+01  1.840000e+02  1.760000e+02   \n",
       "75%    9.879810e+05  1.012664e+06  2.300000e+01  3.240000e+02  3.100000e+02   \n",
       "max    1.317308e+06  1.342946e+06  5.700000e+01  3.621000e+03  3.509000e+03   \n",
       "\n",
       "             gc_bin  \n",
       "count  1.317309e+06  \n",
       "mean   1.424421e+01  \n",
       "std    6.458242e+00  \n",
       "min    0.000000e+00  \n",
       "25%    1.000000e+01  \n",
       "50%    1.000000e+01  \n",
       "75%    2.000000e+01  \n",
       "max    4.000000e+01  "
      ]
     },
     "metadata": {},
     "output_type": "display_data"
    }
   ],
   "source": [
    "# Find the mean reads in each GC Bin\n",
    "pysam_gc_per_pos_per_win = pysam_gc.reset_index().set_index(\"window\").join(pysam_gc_win[[\"gc_bin\"]])\n",
    "display(pysam_gc_per_pos_per_win.shape)\n",
    "display(pysam_gc_per_pos_per_win.head())\n",
    "display(pysam_gc_per_pos_per_win.describe())"
   ]
  },
  {
   "cell_type": "code",
   "execution_count": 41,
   "metadata": {},
   "outputs": [
    {
     "data": {
      "text/html": [
       "<div>\n",
       "<style>\n",
       "    .dataframe thead tr:only-child th {\n",
       "        text-align: right;\n",
       "    }\n",
       "\n",
       "    .dataframe thead th {\n",
       "        text-align: left;\n",
       "    }\n",
       "\n",
       "    .dataframe tbody tr th {\n",
       "        vertical-align: top;\n",
       "    }\n",
       "</style>\n",
       "<table border=\"1\" class=\"dataframe\">\n",
       "  <thead>\n",
       "    <tr style=\"text-align: right;\">\n",
       "      <th></th>\n",
       "      <th>reads_all_gc_bin_mean</th>\n",
       "    </tr>\n",
       "    <tr>\n",
       "      <th>gc_bin</th>\n",
       "      <th></th>\n",
       "    </tr>\n",
       "  </thead>\n",
       "  <tbody>\n",
       "    <tr>\n",
       "      <th>0.0</th>\n",
       "      <td>87.287649</td>\n",
       "    </tr>\n",
       "    <tr>\n",
       "      <th>10.0</th>\n",
       "      <td>262.952733</td>\n",
       "    </tr>\n",
       "    <tr>\n",
       "      <th>20.0</th>\n",
       "      <td>296.642430</td>\n",
       "    </tr>\n",
       "    <tr>\n",
       "      <th>30.0</th>\n",
       "      <td>107.656400</td>\n",
       "    </tr>\n",
       "    <tr>\n",
       "      <th>40.0</th>\n",
       "      <td>71.454216</td>\n",
       "    </tr>\n",
       "  </tbody>\n",
       "</table>\n",
       "</div>"
      ],
      "text/plain": [
       "        reads_all_gc_bin_mean\n",
       "gc_bin                       \n",
       "0.0                 87.287649\n",
       "10.0               262.952733\n",
       "20.0               296.642430\n",
       "30.0               107.656400\n",
       "40.0                71.454216"
      ]
     },
     "execution_count": 41,
     "metadata": {},
     "output_type": "execute_result"
    }
   ],
   "source": [
    "pysam_by_gc_bin = pysam_gc_per_pos_per_win.groupby(\"gc_bin\").agg({'reads_all': \"mean\"})\n",
    "pysam_by_gc_bin = pysam_by_gc_bin.rename(columns={'reads_all': 'reads_all_gc_bin_mean'})\n",
    "pysam_by_gc_bin.head()"
   ]
  },
  {
   "cell_type": "code",
   "execution_count": 42,
   "metadata": {},
   "outputs": [
    {
     "data": {
      "text/plain": [
       "(4405, 6)"
      ]
     },
     "metadata": {},
     "output_type": "display_data"
    },
    {
     "data": {
      "text/html": [
       "<div>\n",
       "<style>\n",
       "    .dataframe thead tr:only-child th {\n",
       "        text-align: right;\n",
       "    }\n",
       "\n",
       "    .dataframe thead th {\n",
       "        text-align: left;\n",
       "    }\n",
       "\n",
       "    .dataframe tbody tr th {\n",
       "        vertical-align: top;\n",
       "    }\n",
       "</style>\n",
       "<table border=\"1\" class=\"dataframe\">\n",
       "  <thead>\n",
       "    <tr style=\"text-align: right;\">\n",
       "      <th></th>\n",
       "      <th>window</th>\n",
       "      <th>reads_all_win_mean</th>\n",
       "      <th>reads_all_win_med</th>\n",
       "      <th>gc_win_med</th>\n",
       "      <th>gc_win_mean</th>\n",
       "      <th>reads_all_gc_bin_mean</th>\n",
       "    </tr>\n",
       "    <tr>\n",
       "      <th>gc_bin</th>\n",
       "      <th></th>\n",
       "      <th></th>\n",
       "      <th></th>\n",
       "      <th></th>\n",
       "      <th></th>\n",
       "      <th></th>\n",
       "    </tr>\n",
       "  </thead>\n",
       "  <tbody>\n",
       "    <tr>\n",
       "      <th>30.0</th>\n",
       "      <td>1500</td>\n",
       "      <td>1.000000</td>\n",
       "      <td>1.0</td>\n",
       "      <td>33.0</td>\n",
       "      <td>32.980132</td>\n",
       "      <td>107.6564</td>\n",
       "    </tr>\n",
       "    <tr>\n",
       "      <th>30.0</th>\n",
       "      <td>2700</td>\n",
       "      <td>1.687023</td>\n",
       "      <td>2.0</td>\n",
       "      <td>30.0</td>\n",
       "      <td>30.236641</td>\n",
       "      <td>107.6564</td>\n",
       "    </tr>\n",
       "    <tr>\n",
       "      <th>30.0</th>\n",
       "      <td>3000</td>\n",
       "      <td>1.000000</td>\n",
       "      <td>1.0</td>\n",
       "      <td>31.0</td>\n",
       "      <td>31.181818</td>\n",
       "      <td>107.6564</td>\n",
       "    </tr>\n",
       "    <tr>\n",
       "      <th>30.0</th>\n",
       "      <td>4500</td>\n",
       "      <td>1.000000</td>\n",
       "      <td>1.0</td>\n",
       "      <td>31.0</td>\n",
       "      <td>31.124138</td>\n",
       "      <td>107.6564</td>\n",
       "    </tr>\n",
       "    <tr>\n",
       "      <th>30.0</th>\n",
       "      <td>4800</td>\n",
       "      <td>1.000000</td>\n",
       "      <td>1.0</td>\n",
       "      <td>32.0</td>\n",
       "      <td>32.473684</td>\n",
       "      <td>107.6564</td>\n",
       "    </tr>\n",
       "  </tbody>\n",
       "</table>\n",
       "</div>"
      ],
      "text/plain": [
       "        window  reads_all_win_mean  reads_all_win_med  gc_win_med  \\\n",
       "gc_bin                                                              \n",
       "30.0      1500            1.000000                1.0        33.0   \n",
       "30.0      2700            1.687023                2.0        30.0   \n",
       "30.0      3000            1.000000                1.0        31.0   \n",
       "30.0      4500            1.000000                1.0        31.0   \n",
       "30.0      4800            1.000000                1.0        32.0   \n",
       "\n",
       "        gc_win_mean  reads_all_gc_bin_mean  \n",
       "gc_bin                                      \n",
       "30.0      32.980132               107.6564  \n",
       "30.0      30.236641               107.6564  \n",
       "30.0      31.181818               107.6564  \n",
       "30.0      31.124138               107.6564  \n",
       "30.0      32.473684               107.6564  "
      ]
     },
     "metadata": {},
     "output_type": "display_data"
    },
    {
     "data": {
      "text/html": [
       "<div>\n",
       "<style>\n",
       "    .dataframe thead tr:only-child th {\n",
       "        text-align: right;\n",
       "    }\n",
       "\n",
       "    .dataframe thead th {\n",
       "        text-align: left;\n",
       "    }\n",
       "\n",
       "    .dataframe tbody tr th {\n",
       "        vertical-align: top;\n",
       "    }\n",
       "</style>\n",
       "<table border=\"1\" class=\"dataframe\">\n",
       "  <thead>\n",
       "    <tr style=\"text-align: right;\">\n",
       "      <th></th>\n",
       "      <th>window</th>\n",
       "      <th>reads_all_win_mean</th>\n",
       "      <th>reads_all_win_med</th>\n",
       "      <th>gc_win_med</th>\n",
       "      <th>gc_win_mean</th>\n",
       "      <th>reads_all_gc_bin_mean</th>\n",
       "    </tr>\n",
       "  </thead>\n",
       "  <tbody>\n",
       "    <tr>\n",
       "      <th>count</th>\n",
       "      <td>4.405000e+03</td>\n",
       "      <td>4405.000000</td>\n",
       "      <td>4405.000000</td>\n",
       "      <td>4405.000000</td>\n",
       "      <td>4405.000000</td>\n",
       "      <td>4405.000000</td>\n",
       "    </tr>\n",
       "    <tr>\n",
       "      <th>mean</th>\n",
       "      <td>6.817712e+05</td>\n",
       "      <td>261.507023</td>\n",
       "      <td>261.635528</td>\n",
       "      <td>19.086152</td>\n",
       "      <td>19.091481</td>\n",
       "      <td>261.940148</td>\n",
       "    </tr>\n",
       "    <tr>\n",
       "      <th>std</th>\n",
       "      <td>3.817329e+05</td>\n",
       "      <td>273.069246</td>\n",
       "      <td>274.247315</td>\n",
       "      <td>6.060680</td>\n",
       "      <td>5.939678</td>\n",
       "      <td>52.162553</td>\n",
       "    </tr>\n",
       "    <tr>\n",
       "      <th>min</th>\n",
       "      <td>1.500000e+03</td>\n",
       "      <td>1.000000</td>\n",
       "      <td>1.000000</td>\n",
       "      <td>1.000000</td>\n",
       "      <td>1.573333</td>\n",
       "      <td>71.454216</td>\n",
       "    </tr>\n",
       "    <tr>\n",
       "      <th>25%</th>\n",
       "      <td>3.513000e+05</td>\n",
       "      <td>105.080000</td>\n",
       "      <td>104.000000</td>\n",
       "      <td>15.000000</td>\n",
       "      <td>14.663333</td>\n",
       "      <td>262.952733</td>\n",
       "    </tr>\n",
       "    <tr>\n",
       "      <th>50%</th>\n",
       "      <td>6.819000e+05</td>\n",
       "      <td>184.810000</td>\n",
       "      <td>185.000000</td>\n",
       "      <td>19.000000</td>\n",
       "      <td>18.846667</td>\n",
       "      <td>262.952733</td>\n",
       "    </tr>\n",
       "    <tr>\n",
       "      <th>75%</th>\n",
       "      <td>1.012200e+06</td>\n",
       "      <td>321.793333</td>\n",
       "      <td>322.000000</td>\n",
       "      <td>23.000000</td>\n",
       "      <td>22.640000</td>\n",
       "      <td>296.642430</td>\n",
       "    </tr>\n",
       "    <tr>\n",
       "      <th>max</th>\n",
       "      <td>1.342800e+06</td>\n",
       "      <td>3171.200000</td>\n",
       "      <td>3149.000000</td>\n",
       "      <td>50.000000</td>\n",
       "      <td>46.883333</td>\n",
       "      <td>296.642430</td>\n",
       "    </tr>\n",
       "  </tbody>\n",
       "</table>\n",
       "</div>"
      ],
      "text/plain": [
       "             window  reads_all_win_mean  reads_all_win_med   gc_win_med  \\\n",
       "count  4.405000e+03         4405.000000        4405.000000  4405.000000   \n",
       "mean   6.817712e+05          261.507023         261.635528    19.086152   \n",
       "std    3.817329e+05          273.069246         274.247315     6.060680   \n",
       "min    1.500000e+03            1.000000           1.000000     1.000000   \n",
       "25%    3.513000e+05          105.080000         104.000000    15.000000   \n",
       "50%    6.819000e+05          184.810000         185.000000    19.000000   \n",
       "75%    1.012200e+06          321.793333         322.000000    23.000000   \n",
       "max    1.342800e+06         3171.200000        3149.000000    50.000000   \n",
       "\n",
       "       gc_win_mean  reads_all_gc_bin_mean  \n",
       "count  4405.000000            4405.000000  \n",
       "mean     19.091481             261.940148  \n",
       "std       5.939678              52.162553  \n",
       "min       1.573333              71.454216  \n",
       "25%      14.663333             262.952733  \n",
       "50%      18.846667             262.952733  \n",
       "75%      22.640000             296.642430  \n",
       "max      46.883333             296.642430  "
      ]
     },
     "metadata": {},
     "output_type": "display_data"
    }
   ],
   "source": [
    "chrom5 = pysam_gc_win.reset_index().set_index(\"gc_bin\").join(pysam_by_gc_bin, rsuffix=\"_median\")\n",
    "# chrom5 = chrom5.reset_index().set_index(\"window\")\n",
    "# chrom5 = chrom5.reset_index()\n",
    "# chrom5 = chrom5.set_index(\"window\")\n",
    "chrom5 = chrom5.sort_values(\"window\")\n",
    "display(chrom5.shape)\n",
    "display(chrom5.head())\n",
    "display(chrom5.describe())"
   ]
  },
  {
   "cell_type": "code",
   "execution_count": 43,
   "metadata": {},
   "outputs": [],
   "source": [
    "chrom5[\"norm_reads_all\"] = chrom5[\"reads_all_win_mean\"] / chrom5[\"reads_all_gc_bin_mean\"]"
   ]
  },
  {
   "cell_type": "code",
   "execution_count": 44,
   "metadata": {},
   "outputs": [
    {
     "data": {
      "text/html": [
       "<div>\n",
       "<style>\n",
       "    .dataframe thead tr:only-child th {\n",
       "        text-align: right;\n",
       "    }\n",
       "\n",
       "    .dataframe thead th {\n",
       "        text-align: left;\n",
       "    }\n",
       "\n",
       "    .dataframe tbody tr th {\n",
       "        vertical-align: top;\n",
       "    }\n",
       "</style>\n",
       "<table border=\"1\" class=\"dataframe\">\n",
       "  <thead>\n",
       "    <tr style=\"text-align: right;\">\n",
       "      <th></th>\n",
       "      <th>window</th>\n",
       "      <th>reads_all_win_mean</th>\n",
       "      <th>reads_all_win_med</th>\n",
       "      <th>gc_win_med</th>\n",
       "      <th>gc_win_mean</th>\n",
       "      <th>reads_all_gc_bin_mean</th>\n",
       "      <th>norm_reads_all</th>\n",
       "    </tr>\n",
       "    <tr>\n",
       "      <th>gc_bin</th>\n",
       "      <th></th>\n",
       "      <th></th>\n",
       "      <th></th>\n",
       "      <th></th>\n",
       "      <th></th>\n",
       "      <th></th>\n",
       "      <th></th>\n",
       "    </tr>\n",
       "  </thead>\n",
       "  <tbody>\n",
       "    <tr>\n",
       "      <th>30.0</th>\n",
       "      <td>1500</td>\n",
       "      <td>1.000000</td>\n",
       "      <td>1.0</td>\n",
       "      <td>33.0</td>\n",
       "      <td>32.980132</td>\n",
       "      <td>107.6564</td>\n",
       "      <td>0.009289</td>\n",
       "    </tr>\n",
       "    <tr>\n",
       "      <th>30.0</th>\n",
       "      <td>2700</td>\n",
       "      <td>1.687023</td>\n",
       "      <td>2.0</td>\n",
       "      <td>30.0</td>\n",
       "      <td>30.236641</td>\n",
       "      <td>107.6564</td>\n",
       "      <td>0.015670</td>\n",
       "    </tr>\n",
       "    <tr>\n",
       "      <th>30.0</th>\n",
       "      <td>3000</td>\n",
       "      <td>1.000000</td>\n",
       "      <td>1.0</td>\n",
       "      <td>31.0</td>\n",
       "      <td>31.181818</td>\n",
       "      <td>107.6564</td>\n",
       "      <td>0.009289</td>\n",
       "    </tr>\n",
       "    <tr>\n",
       "      <th>30.0</th>\n",
       "      <td>4500</td>\n",
       "      <td>1.000000</td>\n",
       "      <td>1.0</td>\n",
       "      <td>31.0</td>\n",
       "      <td>31.124138</td>\n",
       "      <td>107.6564</td>\n",
       "      <td>0.009289</td>\n",
       "    </tr>\n",
       "    <tr>\n",
       "      <th>30.0</th>\n",
       "      <td>4800</td>\n",
       "      <td>1.000000</td>\n",
       "      <td>1.0</td>\n",
       "      <td>32.0</td>\n",
       "      <td>32.473684</td>\n",
       "      <td>107.6564</td>\n",
       "      <td>0.009289</td>\n",
       "    </tr>\n",
       "  </tbody>\n",
       "</table>\n",
       "</div>"
      ],
      "text/plain": [
       "        window  reads_all_win_mean  reads_all_win_med  gc_win_med  \\\n",
       "gc_bin                                                              \n",
       "30.0      1500            1.000000                1.0        33.0   \n",
       "30.0      2700            1.687023                2.0        30.0   \n",
       "30.0      3000            1.000000                1.0        31.0   \n",
       "30.0      4500            1.000000                1.0        31.0   \n",
       "30.0      4800            1.000000                1.0        32.0   \n",
       "\n",
       "        gc_win_mean  reads_all_gc_bin_mean  norm_reads_all  \n",
       "gc_bin                                                      \n",
       "30.0      32.980132               107.6564        0.009289  \n",
       "30.0      30.236641               107.6564        0.015670  \n",
       "30.0      31.181818               107.6564        0.009289  \n",
       "30.0      31.124138               107.6564        0.009289  \n",
       "30.0      32.473684               107.6564        0.009289  "
      ]
     },
     "metadata": {},
     "output_type": "display_data"
    },
    {
     "data": {
      "text/plain": [
       "(4405, 7)"
      ]
     },
     "metadata": {},
     "output_type": "display_data"
    },
    {
     "data": {
      "text/html": [
       "<div>\n",
       "<style>\n",
       "    .dataframe thead tr:only-child th {\n",
       "        text-align: right;\n",
       "    }\n",
       "\n",
       "    .dataframe thead th {\n",
       "        text-align: left;\n",
       "    }\n",
       "\n",
       "    .dataframe tbody tr th {\n",
       "        vertical-align: top;\n",
       "    }\n",
       "</style>\n",
       "<table border=\"1\" class=\"dataframe\">\n",
       "  <thead>\n",
       "    <tr style=\"text-align: right;\">\n",
       "      <th></th>\n",
       "      <th>window</th>\n",
       "      <th>reads_all_win_mean</th>\n",
       "      <th>reads_all_win_med</th>\n",
       "      <th>gc_win_med</th>\n",
       "      <th>gc_win_mean</th>\n",
       "      <th>reads_all_gc_bin_mean</th>\n",
       "      <th>norm_reads_all</th>\n",
       "    </tr>\n",
       "  </thead>\n",
       "  <tbody>\n",
       "    <tr>\n",
       "      <th>count</th>\n",
       "      <td>4.405000e+03</td>\n",
       "      <td>4405.000000</td>\n",
       "      <td>4405.000000</td>\n",
       "      <td>4405.000000</td>\n",
       "      <td>4405.000000</td>\n",
       "      <td>4405.000000</td>\n",
       "      <td>4405.000000</td>\n",
       "    </tr>\n",
       "    <tr>\n",
       "      <th>mean</th>\n",
       "      <td>6.817712e+05</td>\n",
       "      <td>261.507023</td>\n",
       "      <td>261.635528</td>\n",
       "      <td>19.086152</td>\n",
       "      <td>19.091481</td>\n",
       "      <td>261.940148</td>\n",
       "      <td>0.996904</td>\n",
       "    </tr>\n",
       "    <tr>\n",
       "      <th>std</th>\n",
       "      <td>3.817329e+05</td>\n",
       "      <td>273.069246</td>\n",
       "      <td>274.247315</td>\n",
       "      <td>6.060680</td>\n",
       "      <td>5.939678</td>\n",
       "      <td>52.162553</td>\n",
       "      <td>1.047243</td>\n",
       "    </tr>\n",
       "    <tr>\n",
       "      <th>min</th>\n",
       "      <td>1.500000e+03</td>\n",
       "      <td>1.000000</td>\n",
       "      <td>1.000000</td>\n",
       "      <td>1.000000</td>\n",
       "      <td>1.573333</td>\n",
       "      <td>71.454216</td>\n",
       "      <td>0.003371</td>\n",
       "    </tr>\n",
       "    <tr>\n",
       "      <th>25%</th>\n",
       "      <td>3.513000e+05</td>\n",
       "      <td>105.080000</td>\n",
       "      <td>104.000000</td>\n",
       "      <td>15.000000</td>\n",
       "      <td>14.663333</td>\n",
       "      <td>262.952733</td>\n",
       "      <td>0.402785</td>\n",
       "    </tr>\n",
       "    <tr>\n",
       "      <th>50%</th>\n",
       "      <td>6.819000e+05</td>\n",
       "      <td>184.810000</td>\n",
       "      <td>185.000000</td>\n",
       "      <td>19.000000</td>\n",
       "      <td>18.846667</td>\n",
       "      <td>262.952733</td>\n",
       "      <td>0.704069</td>\n",
       "    </tr>\n",
       "    <tr>\n",
       "      <th>75%</th>\n",
       "      <td>1.012200e+06</td>\n",
       "      <td>321.793333</td>\n",
       "      <td>322.000000</td>\n",
       "      <td>23.000000</td>\n",
       "      <td>22.640000</td>\n",
       "      <td>296.642430</td>\n",
       "      <td>1.218996</td>\n",
       "    </tr>\n",
       "    <tr>\n",
       "      <th>max</th>\n",
       "      <td>1.342800e+06</td>\n",
       "      <td>3171.200000</td>\n",
       "      <td>3149.000000</td>\n",
       "      <td>50.000000</td>\n",
       "      <td>46.883333</td>\n",
       "      <td>296.642430</td>\n",
       "      <td>17.626090</td>\n",
       "    </tr>\n",
       "  </tbody>\n",
       "</table>\n",
       "</div>"
      ],
      "text/plain": [
       "             window  reads_all_win_mean  reads_all_win_med   gc_win_med  \\\n",
       "count  4.405000e+03         4405.000000        4405.000000  4405.000000   \n",
       "mean   6.817712e+05          261.507023         261.635528    19.086152   \n",
       "std    3.817329e+05          273.069246         274.247315     6.060680   \n",
       "min    1.500000e+03            1.000000           1.000000     1.000000   \n",
       "25%    3.513000e+05          105.080000         104.000000    15.000000   \n",
       "50%    6.819000e+05          184.810000         185.000000    19.000000   \n",
       "75%    1.012200e+06          321.793333         322.000000    23.000000   \n",
       "max    1.342800e+06         3171.200000        3149.000000    50.000000   \n",
       "\n",
       "       gc_win_mean  reads_all_gc_bin_mean  norm_reads_all  \n",
       "count  4405.000000            4405.000000     4405.000000  \n",
       "mean     19.091481             261.940148        0.996904  \n",
       "std       5.939678              52.162553        1.047243  \n",
       "min       1.573333              71.454216        0.003371  \n",
       "25%      14.663333             262.952733        0.402785  \n",
       "50%      18.846667             262.952733        0.704069  \n",
       "75%      22.640000             296.642430        1.218996  \n",
       "max      46.883333             296.642430       17.626090  "
      ]
     },
     "metadata": {},
     "output_type": "display_data"
    }
   ],
   "source": [
    "\n",
    "display(chrom5.head())\n",
    "display(chrom5.shape)\n",
    "display(chrom5.describe())"
   ]
  },
  {
   "cell_type": "code",
   "execution_count": 45,
   "metadata": {},
   "outputs": [
    {
     "data": {
      "image/png": "[encoded data removed]",
      "text/plain": [
       "<matplotlib.figure.Figure at 0x117133550>"
      ]
     },
     "metadata": {},
     "output_type": "display_data"
    }
   ],
   "source": [
    "sns.distplot(chrom5[\"norm_reads_all\"])\n",
    "plt.show() "
   ]
  },
  {
   "cell_type": "code",
   "execution_count": 46,
   "metadata": {},
   "outputs": [
    {
     "data": {
      "image/png": "[encoded data removed]",
      "text/plain": [
       "<matplotlib.figure.Figure at 0x11780cf28>"
      ]
     },
     "metadata": {},
     "output_type": "display_data"
    }
   ],
   "source": [
    "%matplotlib inline\n",
    "\n",
    "\n",
    "# sns.set_style('ticks')\n",
    "# fig, ax = plt.subplots()\n",
    "# # the size of A4 paper\n",
    "# fig.set_size_inches(3, 7)\n",
    "sns.lmplot(x=\"window\", y=\"norm_reads_all\", data=chrom5, fit_reg=False, size=10)\n",
    "plt.show()       "
   ]
  },
  {
   "cell_type": "code",
   "execution_count": 47,
   "metadata": {
    "collapsed": true
   },
   "outputs": [],
   "source": [
    "\n",
    "def fit_hmm(depth_normed,  # normalised coverage array \n",
    "            transition_probability,  # probability of state transition\n",
    "            variance,  # variance per copy \n",
    "            variance_fixed,  # variance for the zero copy number state \n",
    "            min_copy_number=0,  # minimum copy number to consider in the model\n",
    "            max_copy_number=5,  # maximum copy number to consider in the model \n",
    "            n_iter=0,  # number of iterations to perform when fitting the model\n",
    "            params='st',  # parameters that can be changed through fitting \n",
    "            init_params='',  # parameters that are initialised from the data\n",
    "           ):\n",
    "    \n",
    "    # convenience variable\n",
    "    n_states = max_copy_number - min_copy_number\n",
    "    \n",
    "    # construct the transition matrix\n",
    "    transmat = np.zeros((n_states, n_states))\n",
    "    transmat[:] = transition_probability\n",
    "    transmat[np.diag_indices(n_states)] = 1-((n_states-1)*transition_probability)\n",
    "    display(\"transmat\")\n",
    "    display(transmat)\n",
    "\n",
    "    # construct means and covariance\n",
    "    means = np.array([[n] for n in range(min_copy_number, max_copy_number)])\n",
    "    covars = np.array([[variance*n + variance_fixed] for n in range(min_copy_number, max_copy_number)])\n",
    "\n",
    "    # setup HMM \n",
    "    model = hmm.GaussianHMM(n_states, \n",
    "                        covariance_type='diag', \n",
    "                        n_iter=n_iter, \n",
    "                        transmat_prior=transmat, \n",
    "                        params=params,\n",
    "                        init_params=init_params)\n",
    "    model.means_ = means\n",
    "    model.covars_ = covars\n",
    "    \n",
    "    # fit HMM\n",
    "    obs = np.column_stack([depth_normed])\n",
    "    display(\"obs\")\n",
    "    display(obs)\n",
    "#     obs = depth_normed\n",
    "    model.fit(obs)\n",
    "    \n",
    "    # predict hidden states\n",
    "    h = model.predict(obs)\n",
    "    \n",
    "    return h"
   ]
  },
  {
   "cell_type": "code",
   "execution_count": 48,
   "metadata": {},
   "outputs": [
    {
     "data": {
      "text/plain": [
       "array([ 0.00928881,  0.01567044,  0.00928881, ...,  0.05329649,\n",
       "        0.06058922,  0.12492504])"
      ]
     },
     "metadata": {},
     "output_type": "display_data"
    },
    {
     "data": {
      "text/plain": [
       "(4405, 7)"
      ]
     },
     "metadata": {},
     "output_type": "display_data"
    }
   ],
   "source": [
    "display(chrom5[\"norm_reads_all\"].values)\n",
    "display(chrom5.shape)"
   ]
  },
  {
   "cell_type": "code",
   "execution_count": 49,
   "metadata": {},
   "outputs": [
    {
     "data": {
      "text/plain": [
       "'transmat'"
      ]
     },
     "metadata": {},
     "output_type": "display_data"
    },
    {
     "data": {
      "text/plain": [
       "array([[ 0.96,  0.01,  0.01,  0.01,  0.01],\n",
       "       [ 0.01,  0.96,  0.01,  0.01,  0.01],\n",
       "       [ 0.01,  0.01,  0.96,  0.01,  0.01],\n",
       "       [ 0.01,  0.01,  0.01,  0.96,  0.01],\n",
       "       [ 0.01,  0.01,  0.01,  0.01,  0.96]])"
      ]
     },
     "metadata": {},
     "output_type": "display_data"
    },
    {
     "data": {
      "text/plain": [
       "'obs'"
      ]
     },
     "metadata": {},
     "output_type": "display_data"
    },
    {
     "data": {
      "text/plain": [
       "array([[ 0.00928881],\n",
       "       [ 0.01567044],\n",
       "       [ 0.00928881],\n",
       "       ..., \n",
       "       [ 0.05329649],\n",
       "       [ 0.06058922],\n",
       "       [ 0.12492504]])"
      ]
     },
     "metadata": {},
     "output_type": "display_data"
    },
    {
     "name": "stderr",
     "output_type": "stream",
     "text": [
      "/Users/tn6/anaconda3/envs/analysis_py35_mac/lib/python3.5/site-packages/sklearn/utils/deprecation.py:70: DeprecationWarning: Function log_multivariate_normal_density is deprecated; The function log_multivariate_normal_density is deprecated in 0.18 and will be removed in 0.20.\n",
      "  warnings.warn(msg, category=DeprecationWarning)\n"
     ]
    }
   ],
   "source": [
    "copy_number = fit_hmm(depth_normed =chrom5[\"norm_reads_all\"].values,  \n",
    "                      transition_probability=.01,\n",
    "                      variance=.1,\n",
    "                      variance_fixed=.001)"
   ]
  },
  {
   "cell_type": "code",
   "execution_count": 50,
   "metadata": {},
   "outputs": [
    {
     "data": {
      "text/plain": [
       "DescribeResult(nobs=4405, minmax=(0, 4), mean=1.2267877412031782, variance=0.50736581438193118, skewness=2.132326896204598, kurtosis=5.587714288478269)"
      ]
     },
     "metadata": {},
     "output_type": "display_data"
    },
    {
     "data": {
      "text/plain": [
       "(4405,)"
      ]
     },
     "metadata": {},
     "output_type": "display_data"
    },
    {
     "data": {
      "text/plain": [
       "array([0, 0, 0, 0, 0, 0, 0, 0, 0, 0])"
      ]
     },
     "metadata": {},
     "output_type": "display_data"
    }
   ],
   "source": [
    "\n",
    "display(scipy.stats.describe(copy_number))\n",
    "display(copy_number.shape)\n",
    "display(copy_number[:10])"
   ]
  },
  {
   "cell_type": "code",
   "execution_count": 51,
   "metadata": {},
   "outputs": [
    {
     "data": {
      "image/png": "[encoded data removed]",
      "text/plain": [
       "<matplotlib.figure.Figure at 0x116f6ce10>"
      ]
     },
     "metadata": {},
     "output_type": "display_data"
    }
   ],
   "source": [
    "chrom5[\"copy_number\"] = copy_number\n",
    "# sns.set_style('ticks')\n",
    "# fig, ax = plt.subplots()\n",
    "# # the size of A4 paper\n",
    "# fig.set_size_inches(3, 7)\n",
    "sns.lmplot(x=\"window\", y=\"copy_number\", data=chrom5, fit_reg=False, size=10)\n",
    "\n",
    "\n",
    "plt.show() "
   ]
  }
 ],
 "metadata": {
  "kernelspec": {
   "display_name": "Python 3",
   "language": "python",
   "name": "python3"
  },
  "language_info": {
   "codemirror_mode": {
    "name": "ipython",
    "version": 3
   },
   "file_extension": ".py",
   "mimetype": "text/x-python",
   "name": "python",
   "nbconvert_exporter": "python",
   "pygments_lexer": "ipython3",
   "version": "3.5.3"
  }
 },
 "nbformat": 4,
 "nbformat_minor": 2
}
