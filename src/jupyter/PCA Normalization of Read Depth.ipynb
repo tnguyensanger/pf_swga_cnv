{
 "cells": [
  {
   "cell_type": "markdown",
   "metadata": {},
   "source": [
    "# PCA Normalization of Read Depth\n",
    "\n",
    "Implement custom principal component analysis of read depth, instead of using xhmm scripts.\n",
    "Examine which factors correlate wth highest principal components."
   ]
  },
  {
   "cell_type": "code",
   "execution_count": 43,
   "metadata": {
    "collapsed": true
   },
   "outputs": [],
   "source": [
    "import numpy as np\n",
    "from sklearn.decomposition import PCA\n",
    "import scipy.linalg\n",
    "\n",
    "import os\n",
    "import os\n",
    "import glob\n",
    "import re\n",
    "import pandas\n",
    "from IPython.display import display, HTML\n",
    "\n",
    "import matplotlib.pyplot as plt\n",
    "import seaborn as sns\n",
    "\n",
    "from hmmlearn import hmm\n",
    "import scipy.stats\n",
    "# from sklearn import hmm\n",
    "%matplotlib inline"
   ]
  },
  {
   "cell_type": "code",
   "execution_count": 44,
   "metadata": {
    "collapsed": true
   },
   "outputs": [],
   "source": [
    "# Pre-existing Mean Centred Read Depth Data that has had extreme windows removed\n",
    "# Each cell in matrix is per-sample per-window read depth.\n",
    "# Rows are samples, cols are windows.\n",
    "FILTERED_CENTRED_READ_DEPTH_MAT = \"/Volumes/lustre/scratch118/malaria/team112/personal/tn6/pf_swga_cnv/output/xhmm/xhmm_test.filtered_centered.RD.txt\"\n",
    "\n",
    "# GC For all windows across 3D7 genome\n",
    "# Windows are 298bp, since xHMM requires that there be space between each interval\n",
    "# Calulated via GATK GCContentByInterval\n",
    "REF_GC_BY_WINDOW_TSV = \"/Volumes/lustre/scratch118/malaria/team112/personal/tn6/pf_swga_cnv/output/xhmm/xhmm_test.locus_GC.txt\"\n",
    "\n",
    "# Windows across genome with extreme read depth that were excluded by xHMM\n",
    "EXCL_WIN_DEPTH_LIST = \"/Volumes/lustre/scratch118/malaria/team112/personal/tn6/pf_swga_cnv/output/xhmm/xhmm_test.PCA_normalized.filtered.sample_zscores.RD.txt.filtered_targets.txt\"\n",
    "\n",
    "# Windows across genome with extreme GC that were excluded by xHMM\n",
    "EXCL_WIN_GC_LIST = \"/Volumes/lustre/scratch118/malaria/team112/personal/tn6/pf_swga_cnv/output/xhmm/xhmm_test.extreme_gc_targets.txt\"\n",
    "\n",
    "# Windows across genome with extreme read depth even after PCA normalization that were excluded by xHMM\n",
    "EXCL_WIN_PCA_NORM_GC_LIST = \"/Volumes/lustre/scratch118/malaria/team112/personal/tn6/pf_swga_cnv/output/xhmm/xhmm_test.PCA_normalized.filtered.sample_zscores.RD.txt.filtered_targets.txt\"\n",
    "\n",
    "# Pysam per position GC and Coverage stats, wildcard pattern\n",
    "# We are only using the 36 multiplexed swga samples from run 20295 lane 4.\n",
    "# These have no bead cleanup and were all swga'ed for 16 hours.\n",
    "PYSAM_GC_STATS_PATTERN = '/Volumes/lustre/scratch118/malaria/team112/personal/tn6/pf_swga_cnv/output/pysamstats_gc/{SAMPLE}.*.20295_4_*.{CHROM}.pysamstats_gc.txt'\n",
    "\n",
    "SAMPLE_WIN_AVE_GC_TSV = '/Volumes/lustre/scratch118/malaria/team112/personal/tn6/pf_swga_cnv/output/pysamstats_gc/swga_36plex_noclean_12hr.win_ave.tsv'\n",
    "\n",
    "# Reference fasta that bams were aligned to\n",
    "REF_FASTA = '/Volumes/lustre/scratch118/malaria/team112/personal/tn6/pf_swga_cnv/resource/3D7/3D7_V3.fasta'"
   ]
  },
  {
   "cell_type": "code",
   "execution_count": 45,
   "metadata": {
    "collapsed": true
   },
   "outputs": [],
   "source": [
    "# with open(FILTERED_CENTRED_READ_DEPTH_MAT) as fh:\n",
    "#     ncols = len(fh.readline().split(\"\\t\")) - 1  # Ignore the first column which lists the sample row names\n",
    "\n",
    "# nrows_result = ! wc -l { FILTERED_CENTRED_READ_DEPTH_MAT } | tr -s ' ' | cut -f 2 -d \" \"\n",
    "# nrows = int(nrows_result[0])-1\n",
    "\n",
    "# sample_depth_mat = np.loadtxt(FILTERED_CENTRED_READ_DEPTH_MAT, skiprows=1, usecols=range(1,ncols+1))\n",
    "# sample_depth_mat[:3, :3] \n",
    "\n",
    "# Runs PCA on mean-centered data:\n",
    "#/nfs/team112/tn6/programs/xhmm/statgen-xhmm-cc14e528d909/xhmm --PCA -r $OUTPUT_DIR/xhmm_test.filtered_centered.RD.txt --PCAfiles $OUTPUT_DIR/xhmm_test.RD_PCA"
   ]
  },
  {
   "cell_type": "code",
   "execution_count": 46,
   "metadata": {},
   "outputs": [
    {
     "data": {
      "text/plain": [
       "(37, 66089)"
      ]
     },
     "metadata": {},
     "output_type": "display_data"
    },
    {
     "data": {
      "text/html": [
       "<div>\n",
       "<style>\n",
       "    .dataframe thead tr:only-child th {\n",
       "        text-align: right;\n",
       "    }\n",
       "\n",
       "    .dataframe thead th {\n",
       "        text-align: left;\n",
       "    }\n",
       "\n",
       "    .dataframe tbody tr th {\n",
       "        vertical-align: top;\n",
       "    }\n",
       "</style>\n",
       "<table border=\"1\" class=\"dataframe\">\n",
       "  <thead>\n",
       "    <tr style=\"text-align: right;\">\n",
       "      <th></th>\n",
       "      <th>Pf3D7_05_v3:27001-27298</th>\n",
       "      <th>Pf3D7_05_v3:27301-27598</th>\n",
       "      <th>Pf3D7_05_v3:27601-27898</th>\n",
       "    </tr>\n",
       "    <tr>\n",
       "      <th>Sample</th>\n",
       "      <th></th>\n",
       "      <th></th>\n",
       "      <th></th>\n",
       "    </tr>\n",
       "  </thead>\n",
       "  <tbody>\n",
       "    <tr>\n",
       "      <th>PF1155-CW</th>\n",
       "      <td>-0.630541</td>\n",
       "      <td>1.463784</td>\n",
       "      <td>-16.26973</td>\n",
       "    </tr>\n",
       "    <tr>\n",
       "      <th>PF1128-CW</th>\n",
       "      <td>6.449459</td>\n",
       "      <td>8.723784</td>\n",
       "      <td>-8.29973</td>\n",
       "    </tr>\n",
       "    <tr>\n",
       "      <th>PF1137-CW</th>\n",
       "      <td>35.259459</td>\n",
       "      <td>72.153784</td>\n",
       "      <td>93.50027</td>\n",
       "    </tr>\n",
       "    <tr>\n",
       "      <th>PF1013-CxW</th>\n",
       "      <td>-9.080541</td>\n",
       "      <td>-12.736216</td>\n",
       "      <td>-27.72973</td>\n",
       "    </tr>\n",
       "    <tr>\n",
       "      <th>PF1132-CW</th>\n",
       "      <td>-8.500541</td>\n",
       "      <td>-22.816216</td>\n",
       "      <td>-15.42973</td>\n",
       "    </tr>\n",
       "  </tbody>\n",
       "</table>\n",
       "</div>"
      ],
      "text/plain": [
       "            Pf3D7_05_v3:27001-27298  Pf3D7_05_v3:27301-27598  \\\n",
       "Sample                                                         \n",
       "PF1155-CW                 -0.630541                 1.463784   \n",
       "PF1128-CW                  6.449459                 8.723784   \n",
       "PF1137-CW                 35.259459                72.153784   \n",
       "PF1013-CxW                -9.080541               -12.736216   \n",
       "PF1132-CW                 -8.500541               -22.816216   \n",
       "\n",
       "            Pf3D7_05_v3:27601-27898  \n",
       "Sample                               \n",
       "PF1155-CW                 -16.26973  \n",
       "PF1128-CW                  -8.29973  \n",
       "PF1137-CW                  93.50027  \n",
       "PF1013-CxW                -27.72973  \n",
       "PF1132-CW                 -15.42973  "
      ]
     },
     "metadata": {},
     "output_type": "display_data"
    },
    {
     "data": {
      "text/html": [
       "<div>\n",
       "<style>\n",
       "    .dataframe thead tr:only-child th {\n",
       "        text-align: right;\n",
       "    }\n",
       "\n",
       "    .dataframe thead th {\n",
       "        text-align: left;\n",
       "    }\n",
       "\n",
       "    .dataframe tbody tr th {\n",
       "        vertical-align: top;\n",
       "    }\n",
       "</style>\n",
       "<table border=\"1\" class=\"dataframe\">\n",
       "  <thead>\n",
       "    <tr style=\"text-align: right;\">\n",
       "      <th></th>\n",
       "      <th>Pf3D7_05_v3:27001-27298</th>\n",
       "      <th>Pf3D7_05_v3:27301-27598</th>\n",
       "      <th>Pf3D7_05_v3:27601-27898</th>\n",
       "    </tr>\n",
       "  </thead>\n",
       "  <tbody>\n",
       "    <tr>\n",
       "      <th>count</th>\n",
       "      <td>3.700000e+01</td>\n",
       "      <td>3.700000e+01</td>\n",
       "      <td>3.700000e+01</td>\n",
       "    </tr>\n",
       "    <tr>\n",
       "      <th>mean</th>\n",
       "      <td>5.405402e-10</td>\n",
       "      <td>-3.783784e-09</td>\n",
       "      <td>-2.702701e-10</td>\n",
       "    </tr>\n",
       "    <tr>\n",
       "      <th>std</th>\n",
       "      <td>1.617319e+01</td>\n",
       "      <td>3.134085e+01</td>\n",
       "      <td>4.014722e+01</td>\n",
       "    </tr>\n",
       "    <tr>\n",
       "      <th>min</th>\n",
       "      <td>-1.278054e+01</td>\n",
       "      <td>-2.862622e+01</td>\n",
       "      <td>-3.435973e+01</td>\n",
       "    </tr>\n",
       "    <tr>\n",
       "      <th>25%</th>\n",
       "      <td>-1.096054e+01</td>\n",
       "      <td>-2.159622e+01</td>\n",
       "      <td>-2.717973e+01</td>\n",
       "    </tr>\n",
       "    <tr>\n",
       "      <th>50%</th>\n",
       "      <td>-6.530541e+00</td>\n",
       "      <td>-1.323622e+01</td>\n",
       "      <td>-1.298973e+01</td>\n",
       "    </tr>\n",
       "    <tr>\n",
       "      <th>75%</th>\n",
       "      <td>6.179459e+00</td>\n",
       "      <td>9.463784e+00</td>\n",
       "      <td>1.096027e+01</td>\n",
       "    </tr>\n",
       "    <tr>\n",
       "      <th>max</th>\n",
       "      <td>4.198946e+01</td>\n",
       "      <td>8.562378e+01</td>\n",
       "      <td>1.528403e+02</td>\n",
       "    </tr>\n",
       "  </tbody>\n",
       "</table>\n",
       "</div>"
      ],
      "text/plain": [
       "       Pf3D7_05_v3:27001-27298  Pf3D7_05_v3:27301-27598  \\\n",
       "count             3.700000e+01             3.700000e+01   \n",
       "mean              5.405402e-10            -3.783784e-09   \n",
       "std               1.617319e+01             3.134085e+01   \n",
       "min              -1.278054e+01            -2.862622e+01   \n",
       "25%              -1.096054e+01            -2.159622e+01   \n",
       "50%              -6.530541e+00            -1.323622e+01   \n",
       "75%               6.179459e+00             9.463784e+00   \n",
       "max               4.198946e+01             8.562378e+01   \n",
       "\n",
       "       Pf3D7_05_v3:27601-27898  \n",
       "count             3.700000e+01  \n",
       "mean             -2.702701e-10  \n",
       "std               4.014722e+01  \n",
       "min              -3.435973e+01  \n",
       "25%              -2.717973e+01  \n",
       "50%              -1.298973e+01  \n",
       "75%               1.096027e+01  \n",
       "max               1.528403e+02  "
      ]
     },
     "metadata": {},
     "output_type": "display_data"
    }
   ],
   "source": [
    "sample_win_depth_df = pandas.read_csv(FILTERED_CENTRED_READ_DEPTH_MAT, sep=\"\\t\")\n",
    "sample_win_depth_df = sample_win_depth_df.rename(columns={\"Matrix\": \"Sample\"})\n",
    "sample_win_depth_df = sample_win_depth_df.set_index(\"Sample\")\n",
    "display(sample_win_depth_df.shape)\n",
    "display(sample_win_depth_df.iloc[:, 0:3].head())\n",
    "display(sample_win_depth_df.iloc[:, 0:3].describe())"
   ]
  },
  {
   "cell_type": "markdown",
   "metadata": {},
   "source": [
    "We only used the 36-multiplexed SWGA samples because they were all processed without bead cleanup,\n",
    "and processed in the same run and lane."
   ]
  },
  {
   "cell_type": "code",
   "execution_count": 47,
   "metadata": {},
   "outputs": [
    {
     "data": {
      "text/plain": [
       "Index(['PF1155-CW', 'PF1128-CW', 'PF1137-CW', 'PF1013-CxW', 'PF1132-CW',\n",
       "       'PF1136-CW', 'PF1094-CxW', 'PF1175-CW', 'PF1135-CW', 'PF1051-CxW',\n",
       "       'PF1092-CxW', 'PF1134-CW', 'PF1131-CW', 'PF1189-CW', 'PF1188-CW',\n",
       "       'PF1071-CxW', 'PF1118-CW', 'PF1105-CxW', 'PF1010-CxW', 'PF1078-CxW',\n",
       "       'PF1126-CW', 'PF1018-CxW', 'PF1077-CxW', 'PF1104-CxW', 'PF1119-CW',\n",
       "       'PF1047-CxW', 'PF1141-CW', 'PF1195-CW', 'PF1075-CxW', 'PF1139-CW',\n",
       "       'PF1061-CxW', 'PF1170-CW', 'PF1020-CxW', 'PF1089-CxW', 'PF1073-CxW',\n",
       "       'PF1025-CxW', '3D7_10-T1'],\n",
       "      dtype='object', name='Sample')"
      ]
     },
     "execution_count": 47,
     "metadata": {},
     "output_type": "execute_result"
    }
   ],
   "source": [
    "samples = sample_win_depth_df.index\n",
    "samples"
   ]
  },
  {
   "cell_type": "markdown",
   "metadata": {},
   "source": [
    "Fraction of variance explained by each principal component"
   ]
  },
  {
   "cell_type": "code",
   "execution_count": 48,
   "metadata": {},
   "outputs": [
    {
     "data": {
      "text/plain": [
       "array([  3.51817088e-01,   2.78576362e-01,   9.39533197e-02,\n",
       "         4.87708868e-02,   3.30899302e-02,   2.64832471e-02,\n",
       "         1.99651771e-02,   1.77987095e-02,   1.65417418e-02,\n",
       "         1.44158043e-02,   1.19467908e-02,   1.00872307e-02,\n",
       "         8.37712626e-03,   7.60763539e-03,   6.75666815e-03,\n",
       "         5.62839907e-03,   5.25382974e-03,   4.51326220e-03,\n",
       "         3.75589664e-03,   3.69325074e-03,   3.21561743e-03,\n",
       "         3.00954326e-03,   2.94296206e-03,   2.68216826e-03,\n",
       "         2.37313799e-03,   2.18179173e-03,   2.03437166e-03,\n",
       "         2.01528471e-03,   1.89513456e-03,   1.69077521e-03,\n",
       "         1.61999991e-03,   1.42708096e-03,   1.21439926e-03,\n",
       "         1.13303621e-03,   8.14327319e-04,   7.18013034e-04,\n",
       "         6.93836867e-32])"
      ]
     },
     "metadata": {},
     "output_type": "display_data"
    }
   ],
   "source": [
    "pca = PCA()\n",
    "pca.fit(sample_win_depth_df)\n",
    "display(pca.explained_variance_ratio_)"
   ]
  },
  {
   "cell_type": "markdown",
   "metadata": {},
   "source": [
    "Variance explained by each principal component"
   ]
  },
  {
   "cell_type": "code",
   "execution_count": 49,
   "metadata": {},
   "outputs": [
    {
     "data": {
      "text/plain": [
       "array([  1.01354357e+08,   8.02545673e+07,   2.70668443e+07,\n",
       "         1.40503178e+07,   9.53281897e+06,   7.62951143e+06,\n",
       "         5.75173226e+06,   5.12759847e+06,   4.76548089e+06,\n",
       "         4.15302336e+06,   3.44172965e+06,   2.90601229e+06,\n",
       "         2.41335136e+06,   2.19167011e+06,   1.94651648e+06,\n",
       "         1.62147545e+06,   1.51356644e+06,   1.30021766e+06,\n",
       "         1.08202956e+06,   1.06398202e+06,   9.26381491e+05,\n",
       "         8.67013951e+05,   8.47832691e+05,   7.72701069e+05,\n",
       "         6.83673091e+05,   6.28548488e+05,   5.86078503e+05,\n",
       "         5.80579779e+05,   5.45965934e+05,   4.87092416e+05,\n",
       "         4.66702884e+05,   4.11125208e+05,   3.49854116e+05,\n",
       "         3.26414380e+05,   2.34598105e+05,   2.06851094e+05,\n",
       "         1.99886225e-23])"
      ]
     },
     "metadata": {},
     "output_type": "display_data"
    }
   ],
   "source": [
    "display(pca.explained_variance_)"
   ]
  },
  {
   "cell_type": "code",
   "execution_count": 50,
   "metadata": {},
   "outputs": [
    {
     "data": {
      "image/png": "[encoded data removed]",
      "text/plain": [
       "<matplotlib.figure.Figure at 0x11c9a46d8>"
      ]
     },
     "metadata": {},
     "output_type": "display_data"
    }
   ],
   "source": [
    "plt.plot(range(1, len(pca.explained_variance_ratio_)+1), pca.explained_variance_ratio_, 'ro-', linewidth=2)\n",
    "plt.title('Scree Plot')\n",
    "plt.xlabel('Principal Component')\n",
    "plt.ylabel('Variance Explained')\n",
    "plt.show()"
   ]
  },
  {
   "cell_type": "markdown",
   "metadata": {},
   "source": [
    "## Correlations of Principal Components to Possible Explanatory Features"
   ]
  },
  {
   "cell_type": "code",
   "execution_count": 51,
   "metadata": {},
   "outputs": [
    {
     "data": {
      "text/plain": [
       "(37, 66089)"
      ]
     },
     "execution_count": 51,
     "metadata": {},
     "output_type": "execute_result"
    }
   ],
   "source": [
    "# Principal components are a linear combination of the features.  In our case, the features are window depths.\n",
    "# Does the contribution of the window depth to the principal component correlate to the window's GC?\n",
    "pca.components_.shape"
   ]
  },
  {
   "cell_type": "code",
   "execution_count": 52,
   "metadata": {},
   "outputs": [
    {
     "data": {
      "text/plain": [
       "array([[ 0.00018042,  0.00022412,  0.00036372,  0.00033599,  0.00029813,\n",
       "         0.00038533,  0.00148819, -0.00029201, -0.00046609, -0.00016933],\n",
       "       [ 0.00060617,  0.00018578,  0.00022649,  0.00016808,  0.00080998,\n",
       "         0.00057675,  0.00015348,  0.00018529,  0.00017979,  0.00092887]])"
      ]
     },
     "metadata": {},
     "output_type": "display_data"
    }
   ],
   "source": [
    "display(pca.components_[:2, :10])"
   ]
  },
  {
   "cell_type": "code",
   "execution_count": 53,
   "metadata": {},
   "outputs": [
    {
     "data": {
      "text/html": [
       "<div>\n",
       "<style>\n",
       "    .dataframe thead tr:only-child th {\n",
       "        text-align: right;\n",
       "    }\n",
       "\n",
       "    .dataframe thead th {\n",
       "        text-align: left;\n",
       "    }\n",
       "\n",
       "    .dataframe tbody tr th {\n",
       "        vertical-align: top;\n",
       "    }\n",
       "</style>\n",
       "<table border=\"1\" class=\"dataframe\">\n",
       "  <thead>\n",
       "    <tr style=\"text-align: right;\">\n",
       "      <th></th>\n",
       "      <th>gc</th>\n",
       "    </tr>\n",
       "    <tr>\n",
       "      <th>window</th>\n",
       "      <th></th>\n",
       "    </tr>\n",
       "  </thead>\n",
       "  <tbody>\n",
       "    <tr>\n",
       "      <th>Pf3D7_05_v3:1-298</th>\n",
       "      <td>0.473154</td>\n",
       "    </tr>\n",
       "    <tr>\n",
       "      <th>Pf3D7_05_v3:301-598</th>\n",
       "      <td>0.392617</td>\n",
       "    </tr>\n",
       "    <tr>\n",
       "      <th>Pf3D7_05_v3:601-898</th>\n",
       "      <td>0.278523</td>\n",
       "    </tr>\n",
       "    <tr>\n",
       "      <th>Pf3D7_05_v3:901-1198</th>\n",
       "      <td>0.265101</td>\n",
       "    </tr>\n",
       "    <tr>\n",
       "      <th>Pf3D7_05_v3:1201-1498</th>\n",
       "      <td>0.322148</td>\n",
       "    </tr>\n",
       "  </tbody>\n",
       "</table>\n",
       "</div>"
      ],
      "text/plain": [
       "                             gc\n",
       "window                         \n",
       "Pf3D7_05_v3:1-298      0.473154\n",
       "Pf3D7_05_v3:301-598    0.392617\n",
       "Pf3D7_05_v3:601-898    0.278523\n",
       "Pf3D7_05_v3:901-1198   0.265101\n",
       "Pf3D7_05_v3:1201-1498  0.322148"
      ]
     },
     "metadata": {},
     "output_type": "display_data"
    },
    {
     "data": {
      "text/html": [
       "<div>\n",
       "<style>\n",
       "    .dataframe thead tr:only-child th {\n",
       "        text-align: right;\n",
       "    }\n",
       "\n",
       "    .dataframe thead th {\n",
       "        text-align: left;\n",
       "    }\n",
       "\n",
       "    .dataframe tbody tr th {\n",
       "        vertical-align: top;\n",
       "    }\n",
       "</style>\n",
       "<table border=\"1\" class=\"dataframe\">\n",
       "  <thead>\n",
       "    <tr style=\"text-align: right;\">\n",
       "      <th></th>\n",
       "      <th>gc</th>\n",
       "    </tr>\n",
       "  </thead>\n",
       "  <tbody>\n",
       "    <tr>\n",
       "      <th>count</th>\n",
       "      <td>77785.000000</td>\n",
       "    </tr>\n",
       "    <tr>\n",
       "      <th>mean</th>\n",
       "      <td>0.193423</td>\n",
       "    </tr>\n",
       "    <tr>\n",
       "      <th>std</th>\n",
       "      <td>0.068125</td>\n",
       "    </tr>\n",
       "    <tr>\n",
       "      <th>min</th>\n",
       "      <td>0.000000</td>\n",
       "    </tr>\n",
       "    <tr>\n",
       "      <th>25%</th>\n",
       "      <td>0.144295</td>\n",
       "    </tr>\n",
       "    <tr>\n",
       "      <th>50%</th>\n",
       "      <td>0.187919</td>\n",
       "    </tr>\n",
       "    <tr>\n",
       "      <th>75%</th>\n",
       "      <td>0.231544</td>\n",
       "    </tr>\n",
       "    <tr>\n",
       "      <th>max</th>\n",
       "      <td>0.617450</td>\n",
       "    </tr>\n",
       "  </tbody>\n",
       "</table>\n",
       "</div>"
      ],
      "text/plain": [
       "                 gc\n",
       "count  77785.000000\n",
       "mean       0.193423\n",
       "std        0.068125\n",
       "min        0.000000\n",
       "25%        0.144295\n",
       "50%        0.187919\n",
       "75%        0.231544\n",
       "max        0.617450"
      ]
     },
     "metadata": {},
     "output_type": "display_data"
    },
    {
     "data": {
      "text/plain": [
       "(77785, 1)"
      ]
     },
     "metadata": {},
     "output_type": "display_data"
    }
   ],
   "source": [
    "ref_gc_by_win = pandas.read_csv(REF_GC_BY_WINDOW_TSV, sep=\"\\t\", header=None)\n",
    "ref_gc_by_win.columns = [\"window\", \"gc\"]\n",
    "ref_gc_by_win = ref_gc_by_win.set_index(\"window\")\n",
    "display(ref_gc_by_win.head())\n",
    "display(ref_gc_by_win.describe())\n",
    "display(ref_gc_by_win.shape)"
   ]
  },
  {
   "cell_type": "code",
   "execution_count": 54,
   "metadata": {
    "collapsed": true
   },
   "outputs": [],
   "source": [
    "# # Remove the windows with extreme read depth that are excluded by xHMM\n",
    "# excl_win_cuz_depth = np.genfromtxt(EXCL_WIN_DEPTH_LIST, dtype='str')\n",
    "# display(excl_win_cuz_depth.shape)\n",
    "# display(excl_win_cuz_depth[:10])"
   ]
  },
  {
   "cell_type": "code",
   "execution_count": 55,
   "metadata": {
    "collapsed": true
   },
   "outputs": [],
   "source": [
    "# # Remove the windows with extreme GC that are excluded by xHMM\n",
    "# excl_win_cuz_gc = np.genfromtxt(EXCL_WIN_GC_LIST, dtype='str')\n",
    "# display(excl_win_cuz_gc.shape)\n",
    "# display(excl_win_cuz_gc[:10])"
   ]
  },
  {
   "cell_type": "code",
   "execution_count": 56,
   "metadata": {
    "collapsed": true
   },
   "outputs": [],
   "source": [
    "# # Remove the windows with extreme GC after PC normalization that are excluded by xHMM\n",
    "# excl_win_cuz_pc_norm_gc = np.genfromtxt(EXCL_WIN_PCA_NORM_GC_LIST, dtype='str')\n",
    "# display(excl_win_cuz_pc_norm_gc.shape)\n",
    "# display(excl_win_cuz_pc_norm_gc[:10])"
   ]
  },
  {
   "cell_type": "code",
   "execution_count": 57,
   "metadata": {
    "collapsed": true
   },
   "outputs": [],
   "source": [
    "# filt_ref_gc_by_win = ref_gc_by_win.drop(excl_win_cuz_depth, axis=\"index\")\n",
    "# filt_ref_gc_by_win = filt_ref_gc_by_win.drop(excl_win_cuz_gc, axis=\"index\")\n",
    "# filt_ref_gc_by_win = filt_ref_gc_by_win.drop(excl_win_cuz_pc_norm_gc, axis=\"index\", errors=\"ignore\")\n",
    "# display(filt_ref_gc_by_win.shape)\n",
    "# display(filt_ref_gc_by_win.head())\n",
    "# display(filt_ref_gc_by_win.describe())"
   ]
  },
  {
   "cell_type": "code",
   "execution_count": 58,
   "metadata": {},
   "outputs": [
    {
     "name": "stdout",
     "output_type": "stream",
     "text": [
      "V_T\r\n",
      "Pf3D7_05_v3:27001-27298\r\n",
      "Pf3D7_05_v3:27301-27598\r\n"
     ]
    }
   ],
   "source": [
    "# Double check that we have the same total filtered targets as the xhmm principal component dataset file.\n",
    "\n",
    "PC_TSV = \"/Volumes/lustre/scratch118/malaria/team112/personal/tn6/pf_swga_cnv/output/xhmm/xhmm_test.RD_PCA.PC.txt\"\n",
    "\n",
    "# Show what header looks like\n",
    "! head -1  { PC_TSV }  | tr \"\\t\" \"\\n\" | head -3"
   ]
  },
  {
   "cell_type": "code",
   "execution_count": 59,
   "metadata": {},
   "outputs": [
    {
     "name": "stdout",
     "output_type": "stream",
     "text": [
      "   66089\r\n"
     ]
    }
   ],
   "source": [
    "# Count the total target header columns\n",
    "! head -1  { PC_TSV }  | tr \"\\t\" \"\\n\" | tail -n +2 | wc -l"
   ]
  },
  {
   "cell_type": "code",
   "execution_count": 60,
   "metadata": {},
   "outputs": [
    {
     "data": {
      "text/plain": [
       "(66089, 1)"
      ]
     },
     "metadata": {},
     "output_type": "display_data"
    },
    {
     "data": {
      "text/html": [
       "<div>\n",
       "<style>\n",
       "    .dataframe thead tr:only-child th {\n",
       "        text-align: right;\n",
       "    }\n",
       "\n",
       "    .dataframe thead th {\n",
       "        text-align: left;\n",
       "    }\n",
       "\n",
       "    .dataframe tbody tr th {\n",
       "        vertical-align: top;\n",
       "    }\n",
       "</style>\n",
       "<table border=\"1\" class=\"dataframe\">\n",
       "  <thead>\n",
       "    <tr style=\"text-align: right;\">\n",
       "      <th></th>\n",
       "      <th>gc</th>\n",
       "    </tr>\n",
       "    <tr>\n",
       "      <th>window</th>\n",
       "      <th></th>\n",
       "    </tr>\n",
       "  </thead>\n",
       "  <tbody>\n",
       "    <tr>\n",
       "      <th>Pf3D7_05_v3:27001-27298</th>\n",
       "      <td>0.224832</td>\n",
       "    </tr>\n",
       "    <tr>\n",
       "      <th>Pf3D7_05_v3:27301-27598</th>\n",
       "      <td>0.338926</td>\n",
       "    </tr>\n",
       "    <tr>\n",
       "      <th>Pf3D7_05_v3:27601-27898</th>\n",
       "      <td>0.231544</td>\n",
       "    </tr>\n",
       "    <tr>\n",
       "      <th>Pf3D7_05_v3:27901-28198</th>\n",
       "      <td>0.342282</td>\n",
       "    </tr>\n",
       "    <tr>\n",
       "      <th>Pf3D7_05_v3:28201-28498</th>\n",
       "      <td>0.244966</td>\n",
       "    </tr>\n",
       "  </tbody>\n",
       "</table>\n",
       "</div>"
      ],
      "text/plain": [
       "                               gc\n",
       "window                           \n",
       "Pf3D7_05_v3:27001-27298  0.224832\n",
       "Pf3D7_05_v3:27301-27598  0.338926\n",
       "Pf3D7_05_v3:27601-27898  0.231544\n",
       "Pf3D7_05_v3:27901-28198  0.342282\n",
       "Pf3D7_05_v3:28201-28498  0.244966"
      ]
     },
     "metadata": {},
     "output_type": "display_data"
    },
    {
     "data": {
      "text/html": [
       "<div>\n",
       "<style>\n",
       "    .dataframe thead tr:only-child th {\n",
       "        text-align: right;\n",
       "    }\n",
       "\n",
       "    .dataframe thead th {\n",
       "        text-align: left;\n",
       "    }\n",
       "\n",
       "    .dataframe tbody tr th {\n",
       "        vertical-align: top;\n",
       "    }\n",
       "</style>\n",
       "<table border=\"1\" class=\"dataframe\">\n",
       "  <thead>\n",
       "    <tr style=\"text-align: right;\">\n",
       "      <th></th>\n",
       "      <th>gc</th>\n",
       "    </tr>\n",
       "  </thead>\n",
       "  <tbody>\n",
       "    <tr>\n",
       "      <th>count</th>\n",
       "      <td>66089.000000</td>\n",
       "    </tr>\n",
       "    <tr>\n",
       "      <th>mean</th>\n",
       "      <td>0.191561</td>\n",
       "    </tr>\n",
       "    <tr>\n",
       "      <th>std</th>\n",
       "      <td>0.053259</td>\n",
       "    </tr>\n",
       "    <tr>\n",
       "      <th>min</th>\n",
       "      <td>0.100671</td>\n",
       "    </tr>\n",
       "    <tr>\n",
       "      <th>25%</th>\n",
       "      <td>0.151007</td>\n",
       "    </tr>\n",
       "    <tr>\n",
       "      <th>50%</th>\n",
       "      <td>0.187919</td>\n",
       "    </tr>\n",
       "    <tr>\n",
       "      <th>75%</th>\n",
       "      <td>0.224832</td>\n",
       "    </tr>\n",
       "    <tr>\n",
       "      <th>max</th>\n",
       "      <td>0.503356</td>\n",
       "    </tr>\n",
       "  </tbody>\n",
       "</table>\n",
       "</div>"
      ],
      "text/plain": [
       "                 gc\n",
       "count  66089.000000\n",
       "mean       0.191561\n",
       "std        0.053259\n",
       "min        0.100671\n",
       "25%        0.151007\n",
       "50%        0.187919\n",
       "75%        0.224832\n",
       "max        0.503356"
      ]
     },
     "metadata": {},
     "output_type": "display_data"
    }
   ],
   "source": [
    "# That's not working.  Try to filter without using the exclusion files \n",
    "# because they are obviously missing targets that are excluded \n",
    "# in the xhmm output for filtered mean-centred read depths\n",
    "ref_gc_by_win = ref_gc_by_win.reset_index()\n",
    "filt_ref_gc_by_win = ref_gc_by_win[ref_gc_by_win[\"window\"].isin(sample_win_depth_df.columns)]\n",
    "filt_ref_gc_by_win = filt_ref_gc_by_win.set_index(\"window\")\n",
    "display(filt_ref_gc_by_win.shape)\n",
    "display(filt_ref_gc_by_win.head())\n",
    "display(filt_ref_gc_by_win.describe())"
   ]
  },
  {
   "cell_type": "code",
   "execution_count": 61,
   "metadata": {
    "collapsed": true
   },
   "outputs": [],
   "source": [
    "# # Find the difference between each window GC and the mean GC across all windows \n",
    "# display(filt_ref_gc_by_win.shape)\n",
    "# dist_gc_from_mean = filt_ref_gc_by_win - filt_ref_gc_by_win.mean()\n",
    "# display(dist_gc_from_mean.shape)\n",
    "# display(dist_gc_from_mean[:3])"
   ]
  },
  {
   "cell_type": "code",
   "execution_count": 62,
   "metadata": {
    "collapsed": true
   },
   "outputs": [],
   "source": [
    "# # For every PC, find the difference between the PC feature coefficients and the mean feature coefficient across PCs\n",
    "# # If our PC matrix is n x m; n total PC's, m features,\n",
    "# # then the matrix of means is shaped 1 x m\n",
    "# # then final differences matrix is shaped n x m\n",
    "# display(pca.components_.shape)  # pca components shape is  n PCs x m features\n",
    "# ave_coeff_per_pc = pca.components_.mean(axis=0)  # shape is 1 x m features\n",
    "# display(ave_coeff_per_pc)\n",
    "# display(ave_coeff_per_pc.shape)\n",
    "# dist_pc_from_mean = pca.components_ - ave_coeff_per_pc  # shape is n PCs x m features\n",
    "# display(dist_pc_from_mean.shape)\n",
    "# display(dist_pc_from_mean[:4, :3])"
   ]
  },
  {
   "cell_type": "code",
   "execution_count": 63,
   "metadata": {
    "collapsed": true
   },
   "outputs": [],
   "source": [
    "# # Find the correlation between pc's and gc\n",
    "# total_features = filt_ref_gc_by_win.shape[0]\n",
    "\n",
    "# # From https://stackoverflow.com/questions/48105922/numpy-covariance-between-each-column-of-a-matrix-and-a-vector?noredirect=1&lq=1\n",
    "# # Each element in the PC vector are the contributions of each window (features)\n",
    "# # For each PC vector, how do contributions of each window correlate to GC.\n",
    "# # If n PCs, and m features,\n",
    "# # We find the dot product of matrix:  1 x m  dot  m x n  = 1 x n\n",
    "# cov = np.dot(dist_gc_from_mean.transpose(), dist_pc_from_mean.transpose()) / (total_features-1)  # 1 x n\n",
    "# display(cov.shape)\n",
    "# display(cov)\n",
    "\n",
    "# var_gc = np.var(filt_ref_gc_by_win, ddof=1)  # 1 x 1\n",
    "# display(var_gc.shape)\n",
    "# display(var_gc)\n",
    "\n",
    "# var_pc = np.var(pca.components_, axis=1, ddof=1)  # 1 x n\n",
    "# display(var_pc.shape)\n",
    "# display(var_pc)\n",
    "\n",
    "\n",
    "# # ??? If we dno't use np.array(), then we get error \" Wrong number of items passed 37, placement implies 1\"\n",
    "# # But we can't keep the dimensions either, in np.var because it's unaccepted as a keyword.\n",
    "# corr =   cov / np.sqrt(np.array(var_gc) * var_pc)  # 1 x n\n",
    "# display(corr.shape)\n",
    "# display(corr)"
   ]
  },
  {
   "cell_type": "code",
   "execution_count": 64,
   "metadata": {
    "collapsed": true
   },
   "outputs": [],
   "source": [
    "# # That is odd that the first few principal components are slightly negatively correlated with GC.  \n",
    "# # In the xHMM tutorial, they found that the absolute value of the correlation is ~ 0.6 for the intial PCs.\n",
    "\n",
    "# # Double check with the xHMM output PCs have similar values to our calculated PCs\n",
    "# xhmm_pc = pandas.read_csv(PC_TSV, sep=\"\\t\")\n",
    "# xhmm_pc = xhmm_pc.set_index(\"V_T\")\n",
    "# display(xhmm_pc.shape)\n",
    "# display(xhmm_pc.iloc[:3, :3].head())\n",
    "# display(xhmm_pc.iloc[:3, :3].describe())"
   ]
  },
  {
   "cell_type": "code",
   "execution_count": 65,
   "metadata": {
    "collapsed": true
   },
   "outputs": [],
   "source": [
    "# diff_np_xhmm_pc = pca.components_ - xhmm_pc\n",
    "# display(diff_np_xhmm_pc.shape)\n",
    "# display(diff_np_xhmm_pc.iloc[:3, :3].head())\n",
    "# display(diff_np_xhmm_pc.iloc[:3, :3].describe())"
   ]
  },
  {
   "cell_type": "code",
   "execution_count": 66,
   "metadata": {
    "collapsed": true
   },
   "outputs": [],
   "source": [
    "# # Find which target names differ from the filtered read depth matrix and the \n",
    "\n",
    "# # For every PC, find the difference between the PC feature coefficients and the mean feature coefficient across PCs\n",
    "# # If our PC matrix is n x m; n total PC's, m features,\n",
    "# # then the matrix of means is shaped 1 x m\n",
    "# # then final differences matrix is shaped n x m\n",
    "# display(xhmm_pc.shape)  # pca components shape is  n PCs x m features\n",
    "# ave_coeff_per_xhmm_pc = xhmm_pc.mean(axis=0)  # shape is 1 x m features\n",
    "# display(ave_coeff_per_xhmm_pc.head())\n",
    "# display(ave_coeff_per_xhmm_pc.shape)\n",
    "# dist_xhmm_pc_from_mean = xhmm_pc - ave_coeff_per_xhmm_pc  # shape is n PCs x m features\n",
    "# display(dist_xhmm_pc_from_mean.shape)\n",
    "# display(dist_xhmm_pc_from_mean.iloc[:4, :3])"
   ]
  },
  {
   "cell_type": "code",
   "execution_count": 67,
   "metadata": {
    "collapsed": true
   },
   "outputs": [],
   "source": [
    "# # From https://stackoverflow.com/questions/48105922/numpy-covariance-between-each-column-of-a-matrix-and-a-vector?noredirect=1&lq=1\n",
    "# # Each element in the PC vector are the contributions of each window (features)\n",
    "# # For each PC vector, how do contributions of each window correlate to GC.\n",
    "# # If n PCs, and m features,\n",
    "# # We find the dot product of matrix:  1 x m  dot  m x n  = 1 x n\n",
    "# xhmm_cov = np.dot(dist_gc_from_mean.transpose(), dist_xhmm_pc_from_mean.transpose()) / (total_features-1)  # 1 x n\n",
    "# display(xhmm_cov.shape)\n",
    "# display(xhmm_cov)\n",
    "\n",
    "# var_xhmm_pc = xhmm_pc.var(axis=1, ddof=1)  # 1 x n\n",
    "# display(var_xhmm_pc.as_matrix().shape)\n",
    "# display(var_xhmm_pc.as_matrix())\n",
    "\n",
    "# # corr = cov / np.sqrt(var_dist_gc_from_mean * var_dist_pc_from_mean)  # 1 x n\n",
    "# # ??? If we don't use np.array(), then we get error \" Wrong number of items passed 37, placement implies 1\"\n",
    "# # But we can't keep the dimensions either, in np.var because it's unaccepted as a keyword.\n",
    "# var_mult = np.array(var_gc) * var_xhmm_pc.as_matrix()\n",
    "# display(var_mult.shape)\n",
    "# xhmm_corr =   xhmm_cov / np.sqrt(np.array(var_gc) * var_xhmm_pc.as_matrix())  # 1 x n\n",
    "# display(xhmm_corr.shape)\n",
    "# display(xhmm_corr)"
   ]
  },
  {
   "cell_type": "code",
   "execution_count": 68,
   "metadata": {
    "collapsed": true
   },
   "outputs": [],
   "source": [
    "# # Plot correlations between GC and xhmm principal components\n",
    "# plt.plot(range(1, pca.components_.shape[0]+1), np.ndarray.flatten(xhmm_corr))\n",
    "# plt.title(\"Correlation\")"
   ]
  },
  {
   "cell_type": "code",
   "execution_count": 69,
   "metadata": {
    "collapsed": true
   },
   "outputs": [],
   "source": [
    "# Find the difference between each window mean read depth and the mean read depth across all windows \n",
    "# display(sample_win_depth_df.shape)\n",
    "# sample_win_depth_df\n",
    "# dist_win_depth_from_mean = sample_win_depth_df.transpose().subtract(sample_win_depth_df.mean(axis=1))\n",
    "# display(dist_depth_from_mean.shape)\n",
    "# display(dist_depth_from_mean[:3])"
   ]
  },
  {
   "cell_type": "code",
   "execution_count": 70,
   "metadata": {
    "collapsed": true
   },
   "outputs": [],
   "source": [
    "# A = m x n matrix\n",
    "# b = m x 1 matrix\n",
    "# Ie m observations, n replicates of each set of m observations\n",
    "# Find the covariance between the columns of A and the vector b\n",
    "# cov (col of A, b) = (b transpose - mean b) dot (A - colmean A) / (m-1)\n",
    "# See https://stackoverflow.com/questions/48105922/numpy-covariance-between-each-column-of-a-matrix-and-a-vector?noredirect=1&lq=1\n",
    "def colcov(A, b):\n",
    "    m = A.shape[0]\n",
    "    \n",
    "    diff_b_mean_b = b - b.mean(axis=0)\n",
    "    diff_A_mean_A = A - A.mean(axis=0)\n",
    "    return np.dot(diff_b_mean_b.transpose(), diff_A_mean_A) / (m - 1)\n",
    "\n",
    "\n",
    "def colcorr(A, b):\n",
    "    \"\"\"\n",
    "    A is numpy 2D matrix\n",
    "    b is numpy array\n",
    "    \"\"\"\n",
    "    \n",
    "    cov = colcov(A,b)\n",
    "\n",
    "    var_b_x_var_A = np.asscalar(np.var(b, axis=0, ddof=1)) * np.var(A, axis=0, ddof=1, keepdims=True) \n",
    "\n",
    "    corr = cov / np.sqrt(var_b_x_var_A) \n",
    "    return corr\n",
    "    "
   ]
  },
  {
   "cell_type": "code",
   "execution_count": 71,
   "metadata": {
    "scrolled": false
   },
   "outputs": [
    {
     "data": {
      "text/plain": [
       "(37,)"
      ]
     },
     "metadata": {},
     "output_type": "display_data"
    },
    {
     "data": {
      "text/plain": [
       "(37, 1)"
      ]
     },
     "metadata": {},
     "output_type": "display_data"
    },
    {
     "data": {
      "text/plain": [
       "(37, 66089)"
      ]
     },
     "metadata": {},
     "output_type": "display_data"
    },
    {
     "data": {
      "text/plain": [
       "(37, 66089)"
      ]
     },
     "metadata": {},
     "output_type": "display_data"
    },
    {
     "data": {
      "text/html": [
       "<div>\n",
       "<style>\n",
       "    .dataframe thead tr:only-child th {\n",
       "        text-align: right;\n",
       "    }\n",
       "\n",
       "    .dataframe thead th {\n",
       "        text-align: left;\n",
       "    }\n",
       "\n",
       "    .dataframe tbody tr th {\n",
       "        vertical-align: top;\n",
       "    }\n",
       "</style>\n",
       "<table border=\"1\" class=\"dataframe\">\n",
       "  <thead>\n",
       "    <tr style=\"text-align: right;\">\n",
       "      <th></th>\n",
       "      <th>Pf3D7_05_v3:27001-27298</th>\n",
       "      <th>Pf3D7_05_v3:27301-27598</th>\n",
       "      <th>Pf3D7_05_v3:27601-27898</th>\n",
       "      <th>Pf3D7_05_v3:27901-28198</th>\n",
       "      <th>Pf3D7_05_v3:28201-28498</th>\n",
       "      <th>Pf3D7_05_v3:28501-28798</th>\n",
       "      <th>Pf3D7_05_v3:29101-29398</th>\n",
       "      <th>Pf3D7_05_v3:30601-30898</th>\n",
       "      <th>Pf3D7_05_v3:33601-33898</th>\n",
       "      <th>Pf3D7_05_v3:36301-36598</th>\n",
       "      <th>...</th>\n",
       "      <th>PFC10_API_IRAB:19201-19498</th>\n",
       "      <th>PFC10_API_IRAB:19501-19798</th>\n",
       "      <th>PFC10_API_IRAB:19801-20098</th>\n",
       "      <th>PFC10_API_IRAB:20101-20398</th>\n",
       "      <th>PFC10_API_IRAB:20401-20698</th>\n",
       "      <th>PFC10_API_IRAB:21001-21298</th>\n",
       "      <th>PFC10_API_IRAB:21301-21598</th>\n",
       "      <th>PFC10_API_IRAB:25801-26098</th>\n",
       "      <th>PFC10_API_IRAB:26101-26398</th>\n",
       "      <th>PFC10_API_IRAB:27001-27298</th>\n",
       "    </tr>\n",
       "  </thead>\n",
       "  <tbody>\n",
       "    <tr>\n",
       "      <th>0</th>\n",
       "      <td>1.816365</td>\n",
       "      <td>2.256282</td>\n",
       "      <td>3.661736</td>\n",
       "      <td>3.382589</td>\n",
       "      <td>3.001447</td>\n",
       "      <td>3.879316</td>\n",
       "      <td>14.982364</td>\n",
       "      <td>-2.939794</td>\n",
       "      <td>-4.692370</td>\n",
       "      <td>-1.704688</td>\n",
       "      <td>...</td>\n",
       "      <td>-8.433958</td>\n",
       "      <td>-9.083979</td>\n",
       "      <td>-8.922022</td>\n",
       "      <td>-8.837927</td>\n",
       "      <td>-7.626305</td>\n",
       "      <td>-3.510024</td>\n",
       "      <td>-3.797796</td>\n",
       "      <td>-4.300288</td>\n",
       "      <td>-3.562291</td>\n",
       "      <td>-3.935604</td>\n",
       "    </tr>\n",
       "    <tr>\n",
       "      <th>1</th>\n",
       "      <td>5.430406</td>\n",
       "      <td>1.664289</td>\n",
       "      <td>2.029012</td>\n",
       "      <td>1.505716</td>\n",
       "      <td>7.256232</td>\n",
       "      <td>5.166784</td>\n",
       "      <td>1.374975</td>\n",
       "      <td>1.659922</td>\n",
       "      <td>1.610624</td>\n",
       "      <td>8.321250</td>\n",
       "      <td>...</td>\n",
       "      <td>7.721418</td>\n",
       "      <td>7.630531</td>\n",
       "      <td>7.167380</td>\n",
       "      <td>5.800202</td>\n",
       "      <td>5.208861</td>\n",
       "      <td>8.412177</td>\n",
       "      <td>9.219300</td>\n",
       "      <td>3.132744</td>\n",
       "      <td>4.560649</td>\n",
       "      <td>3.537066</td>\n",
       "    </tr>\n",
       "    <tr>\n",
       "      <th>2</th>\n",
       "      <td>6.599087</td>\n",
       "      <td>9.322422</td>\n",
       "      <td>11.636936</td>\n",
       "      <td>7.632433</td>\n",
       "      <td>7.475841</td>\n",
       "      <td>5.684412</td>\n",
       "      <td>14.387243</td>\n",
       "      <td>1.334181</td>\n",
       "      <td>2.250627</td>\n",
       "      <td>8.348187</td>\n",
       "      <td>...</td>\n",
       "      <td>6.504170</td>\n",
       "      <td>5.982885</td>\n",
       "      <td>5.565573</td>\n",
       "      <td>5.780135</td>\n",
       "      <td>5.768386</td>\n",
       "      <td>9.057041</td>\n",
       "      <td>9.877397</td>\n",
       "      <td>8.632207</td>\n",
       "      <td>6.788981</td>\n",
       "      <td>3.549605</td>\n",
       "    </tr>\n",
       "    <tr>\n",
       "      <th>3</th>\n",
       "      <td>3.474816</td>\n",
       "      <td>11.239264</td>\n",
       "      <td>12.691478</td>\n",
       "      <td>7.870343</td>\n",
       "      <td>2.732328</td>\n",
       "      <td>0.489852</td>\n",
       "      <td>9.503883</td>\n",
       "      <td>-2.062078</td>\n",
       "      <td>0.389535</td>\n",
       "      <td>1.450872</td>\n",
       "      <td>...</td>\n",
       "      <td>-3.446690</td>\n",
       "      <td>-3.332204</td>\n",
       "      <td>-3.378150</td>\n",
       "      <td>-2.970004</td>\n",
       "      <td>-2.730267</td>\n",
       "      <td>-5.607916</td>\n",
       "      <td>-6.945640</td>\n",
       "      <td>-2.167484</td>\n",
       "      <td>-2.602487</td>\n",
       "      <td>0.115741</td>\n",
       "    </tr>\n",
       "    <tr>\n",
       "      <th>4</th>\n",
       "      <td>2.874021</td>\n",
       "      <td>4.507425</td>\n",
       "      <td>5.555514</td>\n",
       "      <td>-1.281428</td>\n",
       "      <td>-2.352848</td>\n",
       "      <td>-3.494041</td>\n",
       "      <td>-11.387458</td>\n",
       "      <td>-1.161730</td>\n",
       "      <td>-2.815863</td>\n",
       "      <td>-3.335667</td>\n",
       "      <td>...</td>\n",
       "      <td>-1.824238</td>\n",
       "      <td>-0.856852</td>\n",
       "      <td>-0.825034</td>\n",
       "      <td>-1.357016</td>\n",
       "      <td>-1.233739</td>\n",
       "      <td>-0.869084</td>\n",
       "      <td>-0.987164</td>\n",
       "      <td>-2.632044</td>\n",
       "      <td>-1.050302</td>\n",
       "      <td>-1.282558</td>\n",
       "    </tr>\n",
       "  </tbody>\n",
       "</table>\n",
       "<p>5 rows × 66089 columns</p>\n",
       "</div>"
      ],
      "text/plain": [
       "   Pf3D7_05_v3:27001-27298  Pf3D7_05_v3:27301-27598  Pf3D7_05_v3:27601-27898  \\\n",
       "0                 1.816365                 2.256282                 3.661736   \n",
       "1                 5.430406                 1.664289                 2.029012   \n",
       "2                 6.599087                 9.322422                11.636936   \n",
       "3                 3.474816                11.239264                12.691478   \n",
       "4                 2.874021                 4.507425                 5.555514   \n",
       "\n",
       "   Pf3D7_05_v3:27901-28198  Pf3D7_05_v3:28201-28498  Pf3D7_05_v3:28501-28798  \\\n",
       "0                 3.382589                 3.001447                 3.879316   \n",
       "1                 1.505716                 7.256232                 5.166784   \n",
       "2                 7.632433                 7.475841                 5.684412   \n",
       "3                 7.870343                 2.732328                 0.489852   \n",
       "4                -1.281428                -2.352848                -3.494041   \n",
       "\n",
       "   Pf3D7_05_v3:29101-29398  Pf3D7_05_v3:30601-30898  Pf3D7_05_v3:33601-33898  \\\n",
       "0                14.982364                -2.939794                -4.692370   \n",
       "1                 1.374975                 1.659922                 1.610624   \n",
       "2                14.387243                 1.334181                 2.250627   \n",
       "3                 9.503883                -2.062078                 0.389535   \n",
       "4               -11.387458                -1.161730                -2.815863   \n",
       "\n",
       "   Pf3D7_05_v3:36301-36598             ...              \\\n",
       "0                -1.704688             ...               \n",
       "1                 8.321250             ...               \n",
       "2                 8.348187             ...               \n",
       "3                 1.450872             ...               \n",
       "4                -3.335667             ...               \n",
       "\n",
       "   PFC10_API_IRAB:19201-19498  PFC10_API_IRAB:19501-19798  \\\n",
       "0                   -8.433958                   -9.083979   \n",
       "1                    7.721418                    7.630531   \n",
       "2                    6.504170                    5.982885   \n",
       "3                   -3.446690                   -3.332204   \n",
       "4                   -1.824238                   -0.856852   \n",
       "\n",
       "   PFC10_API_IRAB:19801-20098  PFC10_API_IRAB:20101-20398  \\\n",
       "0                   -8.922022                   -8.837927   \n",
       "1                    7.167380                    5.800202   \n",
       "2                    5.565573                    5.780135   \n",
       "3                   -3.378150                   -2.970004   \n",
       "4                   -0.825034                   -1.357016   \n",
       "\n",
       "   PFC10_API_IRAB:20401-20698  PFC10_API_IRAB:21001-21298  \\\n",
       "0                   -7.626305                   -3.510024   \n",
       "1                    5.208861                    8.412177   \n",
       "2                    5.768386                    9.057041   \n",
       "3                   -2.730267                   -5.607916   \n",
       "4                   -1.233739                   -0.869084   \n",
       "\n",
       "   PFC10_API_IRAB:21301-21598  PFC10_API_IRAB:25801-26098  \\\n",
       "0                   -3.797796                   -4.300288   \n",
       "1                    9.219300                    3.132744   \n",
       "2                    9.877397                    8.632207   \n",
       "3                   -6.945640                   -2.167484   \n",
       "4                   -0.987164                   -2.632044   \n",
       "\n",
       "   PFC10_API_IRAB:26101-26398  PFC10_API_IRAB:27001-27298  \n",
       "0                   -3.562291                   -3.935604  \n",
       "1                    4.560649                    3.537066  \n",
       "2                    6.788981                    3.549605  \n",
       "3                   -2.602487                    0.115741  \n",
       "4                   -1.050302                   -1.282558  \n",
       "\n",
       "[5 rows x 66089 columns]"
      ]
     },
     "metadata": {},
     "output_type": "display_data"
    },
    {
     "data": {
      "text/plain": [
       "(37, 66089)"
      ]
     },
     "metadata": {},
     "output_type": "display_data"
    },
    {
     "data": {
      "text/html": [
       "<div>\n",
       "<style>\n",
       "    .dataframe thead tr:only-child th {\n",
       "        text-align: right;\n",
       "    }\n",
       "\n",
       "    .dataframe thead th {\n",
       "        text-align: left;\n",
       "    }\n",
       "\n",
       "    .dataframe tbody tr th {\n",
       "        vertical-align: top;\n",
       "    }\n",
       "</style>\n",
       "<table border=\"1\" class=\"dataframe\">\n",
       "  <thead>\n",
       "    <tr style=\"text-align: right;\">\n",
       "      <th></th>\n",
       "      <th>Pf3D7_05_v3:27001-27298</th>\n",
       "      <th>Pf3D7_05_v3:27301-27598</th>\n",
       "      <th>Pf3D7_05_v3:27601-27898</th>\n",
       "      <th>Pf3D7_05_v3:27901-28198</th>\n",
       "      <th>Pf3D7_05_v3:28201-28498</th>\n",
       "      <th>Pf3D7_05_v3:28501-28798</th>\n",
       "      <th>Pf3D7_05_v3:29101-29398</th>\n",
       "      <th>Pf3D7_05_v3:30601-30898</th>\n",
       "      <th>Pf3D7_05_v3:33601-33898</th>\n",
       "      <th>Pf3D7_05_v3:36301-36598</th>\n",
       "      <th>...</th>\n",
       "      <th>PFC10_API_IRAB:19201-19498</th>\n",
       "      <th>PFC10_API_IRAB:19501-19798</th>\n",
       "      <th>PFC10_API_IRAB:19801-20098</th>\n",
       "      <th>PFC10_API_IRAB:20101-20398</th>\n",
       "      <th>PFC10_API_IRAB:20401-20698</th>\n",
       "      <th>PFC10_API_IRAB:21001-21298</th>\n",
       "      <th>PFC10_API_IRAB:21301-21598</th>\n",
       "      <th>PFC10_API_IRAB:25801-26098</th>\n",
       "      <th>PFC10_API_IRAB:26101-26398</th>\n",
       "      <th>PFC10_API_IRAB:27001-27298</th>\n",
       "    </tr>\n",
       "  </thead>\n",
       "  <tbody>\n",
       "    <tr>\n",
       "      <th>0</th>\n",
       "      <td>-0.630541</td>\n",
       "      <td>1.463784</td>\n",
       "      <td>-16.26973</td>\n",
       "      <td>-14.056486</td>\n",
       "      <td>-5.444324</td>\n",
       "      <td>-5.871622</td>\n",
       "      <td>-27.254324</td>\n",
       "      <td>-7.521351</td>\n",
       "      <td>-4.813784</td>\n",
       "      <td>-2.188919</td>\n",
       "      <td>...</td>\n",
       "      <td>-6.763784</td>\n",
       "      <td>-5.025676</td>\n",
       "      <td>-3.266486</td>\n",
       "      <td>-3.487568</td>\n",
       "      <td>-4.899459</td>\n",
       "      <td>0.81973</td>\n",
       "      <td>-3.711892</td>\n",
       "      <td>-8.201351</td>\n",
       "      <td>-3.109189</td>\n",
       "      <td>-3.425676</td>\n",
       "    </tr>\n",
       "    <tr>\n",
       "      <th>1</th>\n",
       "      <td>6.449459</td>\n",
       "      <td>8.723784</td>\n",
       "      <td>-8.29973</td>\n",
       "      <td>-10.236486</td>\n",
       "      <td>3.355676</td>\n",
       "      <td>-7.481622</td>\n",
       "      <td>-7.674324</td>\n",
       "      <td>-6.071351</td>\n",
       "      <td>5.236216</td>\n",
       "      <td>35.351081</td>\n",
       "      <td>...</td>\n",
       "      <td>-10.223784</td>\n",
       "      <td>-4.505676</td>\n",
       "      <td>-7.206486</td>\n",
       "      <td>-3.887568</td>\n",
       "      <td>-4.549459</td>\n",
       "      <td>-4.61027</td>\n",
       "      <td>-5.371892</td>\n",
       "      <td>-5.391351</td>\n",
       "      <td>-5.409189</td>\n",
       "      <td>-7.025676</td>\n",
       "    </tr>\n",
       "    <tr>\n",
       "      <th>2</th>\n",
       "      <td>35.259459</td>\n",
       "      <td>72.153784</td>\n",
       "      <td>93.50027</td>\n",
       "      <td>48.523514</td>\n",
       "      <td>13.515676</td>\n",
       "      <td>-8.391622</td>\n",
       "      <td>-24.274324</td>\n",
       "      <td>-8.031351</td>\n",
       "      <td>-8.723784</td>\n",
       "      <td>2.401081</td>\n",
       "      <td>...</td>\n",
       "      <td>-15.733784</td>\n",
       "      <td>-14.285676</td>\n",
       "      <td>-13.846486</td>\n",
       "      <td>-11.977568</td>\n",
       "      <td>-8.869459</td>\n",
       "      <td>-5.37027</td>\n",
       "      <td>-7.501892</td>\n",
       "      <td>-2.331351</td>\n",
       "      <td>-0.619189</td>\n",
       "      <td>-6.275676</td>\n",
       "    </tr>\n",
       "    <tr>\n",
       "      <th>3</th>\n",
       "      <td>-9.080541</td>\n",
       "      <td>-12.736216</td>\n",
       "      <td>-27.72973</td>\n",
       "      <td>-14.646486</td>\n",
       "      <td>-12.164324</td>\n",
       "      <td>-11.821622</td>\n",
       "      <td>-25.804324</td>\n",
       "      <td>-10.151351</td>\n",
       "      <td>-9.983784</td>\n",
       "      <td>-10.288919</td>\n",
       "      <td>...</td>\n",
       "      <td>-18.373784</td>\n",
       "      <td>-15.465676</td>\n",
       "      <td>-15.366486</td>\n",
       "      <td>-15.467568</td>\n",
       "      <td>-14.979459</td>\n",
       "      <td>-13.41027</td>\n",
       "      <td>-16.011892</td>\n",
       "      <td>-17.461351</td>\n",
       "      <td>-12.119189</td>\n",
       "      <td>-10.155676</td>\n",
       "    </tr>\n",
       "    <tr>\n",
       "      <th>4</th>\n",
       "      <td>-8.500541</td>\n",
       "      <td>-22.816216</td>\n",
       "      <td>-15.42973</td>\n",
       "      <td>-16.326486</td>\n",
       "      <td>-13.244324</td>\n",
       "      <td>19.918378</td>\n",
       "      <td>29.695676</td>\n",
       "      <td>-10.271351</td>\n",
       "      <td>-10.253784</td>\n",
       "      <td>-10.288919</td>\n",
       "      <td>...</td>\n",
       "      <td>-3.563784</td>\n",
       "      <td>-5.255676</td>\n",
       "      <td>-4.706486</td>\n",
       "      <td>-6.637568</td>\n",
       "      <td>-4.439459</td>\n",
       "      <td>1.93973</td>\n",
       "      <td>14.338108</td>\n",
       "      <td>-3.981351</td>\n",
       "      <td>-4.769189</td>\n",
       "      <td>-3.715676</td>\n",
       "    </tr>\n",
       "  </tbody>\n",
       "</table>\n",
       "<p>5 rows × 66089 columns</p>\n",
       "</div>"
      ],
      "text/plain": [
       "   Pf3D7_05_v3:27001-27298  Pf3D7_05_v3:27301-27598  Pf3D7_05_v3:27601-27898  \\\n",
       "0                -0.630541                 1.463784                -16.26973   \n",
       "1                 6.449459                 8.723784                 -8.29973   \n",
       "2                35.259459                72.153784                 93.50027   \n",
       "3                -9.080541               -12.736216                -27.72973   \n",
       "4                -8.500541               -22.816216                -15.42973   \n",
       "\n",
       "   Pf3D7_05_v3:27901-28198  Pf3D7_05_v3:28201-28498  Pf3D7_05_v3:28501-28798  \\\n",
       "0               -14.056486                -5.444324                -5.871622   \n",
       "1               -10.236486                 3.355676                -7.481622   \n",
       "2                48.523514                13.515676                -8.391622   \n",
       "3               -14.646486               -12.164324               -11.821622   \n",
       "4               -16.326486               -13.244324                19.918378   \n",
       "\n",
       "   Pf3D7_05_v3:29101-29398  Pf3D7_05_v3:30601-30898  Pf3D7_05_v3:33601-33898  \\\n",
       "0               -27.254324                -7.521351                -4.813784   \n",
       "1                -7.674324                -6.071351                 5.236216   \n",
       "2               -24.274324                -8.031351                -8.723784   \n",
       "3               -25.804324               -10.151351                -9.983784   \n",
       "4                29.695676               -10.271351               -10.253784   \n",
       "\n",
       "   Pf3D7_05_v3:36301-36598             ...              \\\n",
       "0                -2.188919             ...               \n",
       "1                35.351081             ...               \n",
       "2                 2.401081             ...               \n",
       "3               -10.288919             ...               \n",
       "4               -10.288919             ...               \n",
       "\n",
       "   PFC10_API_IRAB:19201-19498  PFC10_API_IRAB:19501-19798  \\\n",
       "0                   -6.763784                   -5.025676   \n",
       "1                  -10.223784                   -4.505676   \n",
       "2                  -15.733784                  -14.285676   \n",
       "3                  -18.373784                  -15.465676   \n",
       "4                   -3.563784                   -5.255676   \n",
       "\n",
       "   PFC10_API_IRAB:19801-20098  PFC10_API_IRAB:20101-20398  \\\n",
       "0                   -3.266486                   -3.487568   \n",
       "1                   -7.206486                   -3.887568   \n",
       "2                  -13.846486                  -11.977568   \n",
       "3                  -15.366486                  -15.467568   \n",
       "4                   -4.706486                   -6.637568   \n",
       "\n",
       "   PFC10_API_IRAB:20401-20698  PFC10_API_IRAB:21001-21298  \\\n",
       "0                   -4.899459                     0.81973   \n",
       "1                   -4.549459                    -4.61027   \n",
       "2                   -8.869459                    -5.37027   \n",
       "3                  -14.979459                   -13.41027   \n",
       "4                   -4.439459                     1.93973   \n",
       "\n",
       "   PFC10_API_IRAB:21301-21598  PFC10_API_IRAB:25801-26098  \\\n",
       "0                   -3.711892                   -8.201351   \n",
       "1                   -5.371892                   -5.391351   \n",
       "2                   -7.501892                   -2.331351   \n",
       "3                  -16.011892                  -17.461351   \n",
       "4                   14.338108                   -3.981351   \n",
       "\n",
       "   PFC10_API_IRAB:26101-26398  PFC10_API_IRAB:27001-27298  \n",
       "0                   -3.109189                   -3.425676  \n",
       "1                   -5.409189                   -7.025676  \n",
       "2                   -0.619189                   -6.275676  \n",
       "3                  -12.119189                  -10.155676  \n",
       "4                   -4.769189                   -3.715676  \n",
       "\n",
       "[5 rows x 66089 columns]"
      ]
     },
     "metadata": {},
     "output_type": "display_data"
    },
    {
     "data": {
      "text/plain": [
       "(37,)"
      ]
     },
     "metadata": {},
     "output_type": "display_data"
    },
    {
     "data": {
      "text/plain": [
       "0    -0.653075\n",
       "1    -0.527060\n",
       "2     0.582499\n",
       "3     0.065254\n",
       "4    -0.018004\n",
       "5    -0.017841\n",
       "6    -0.012387\n",
       "7    -0.024373\n",
       "8     0.067261\n",
       "9    -0.034378\n",
       "10    0.097620\n",
       "11    0.081019\n",
       "12    0.156106\n",
       "13   -0.004027\n",
       "14   -0.134526\n",
       "15   -0.121454\n",
       "16    0.059023\n",
       "17   -0.049732\n",
       "18    0.022409\n",
       "19    0.004225\n",
       "20   -0.069725\n",
       "21   -0.025082\n",
       "22   -0.012725\n",
       "23    0.035325\n",
       "24   -0.116864\n",
       "25    0.056459\n",
       "26    0.011011\n",
       "27    0.002621\n",
       "28    0.002296\n",
       "29   -0.008803\n",
       "30    0.005248\n",
       "31    0.005792\n",
       "32    0.003577\n",
       "33   -0.038040\n",
       "34   -0.001982\n",
       "35    0.116803\n",
       "36    0.003308\n",
       "dtype: float64"
      ]
     },
     "metadata": {},
     "output_type": "display_data"
    },
    {
     "data": {
      "text/plain": [
       "<matplotlib.text.Text at 0x11db52ef0>"
      ]
     },
     "execution_count": 71,
     "metadata": {},
     "output_type": "execute_result"
    },
    {
     "data": {
      "image/png": "[encoded data removed]",
      "text/plain": [
       "<matplotlib.figure.Figure at 0x129a18080>"
      ]
     },
     "metadata": {},
     "output_type": "display_data"
    }
   ],
   "source": [
    "# Convert (37,) vector to (37, 1) matrix\n",
    "display(pca.explained_variance_.shape)\n",
    "explained_stdev_2d = np.reshape(np.sqrt(pca.explained_variance_), (len(pca.explained_variance_), 1))\n",
    "display(explained_stdev_2d.shape)\n",
    "loadings = explained_stdev_2d *  pca.components_  # elementwise multiply\n",
    "display(loadings.shape)\n",
    "\n",
    "loadings_df = pandas.DataFrame(loadings, columns=sample_win_depth_df.columns)\n",
    "display(loadings_df.shape) \n",
    "display(loadings_df.head())\n",
    "\n",
    "sample_win_depth_df_no_samp_name = sample_win_depth_df.reset_index().drop([\"Sample\"], axis=1)\n",
    "display(sample_win_depth_df_no_samp_name.shape)\n",
    "display(sample_win_depth_df_no_samp_name.head())\n",
    "\n",
    "\n",
    "# Find correlation of each window contribution to PC vs each window depth for each principal component\n",
    "# We should end up with a correlation coefficient value for each of the 37 principal components.\n",
    "\n",
    "# TODO: is this valid?  Are each principal components just a loading of a single sample and just a single window?\n",
    "# Or is an element of a principal component a projection of every sample and just a single window?\n",
    "\n",
    "\n",
    "# Only cols with same name will be compared:  https://stackoverflow.com/questions/46041148/pandas-corr-vs-corrwith?rq=1\n",
    "corr_sample_win_gc_pc = loadings_df.corrwith(sample_win_depth_df_no_samp_name, axis=1)\n",
    "display(corr_sample_win_gc_pc.shape)\n",
    "display(corr_sample_win_gc_pc)\n",
    "\n",
    "plt.plot(range(0, pca.components_.shape[0]), corr_sample_win_gc_pc)\n",
    "plt.title(\"Correlation\")\n",
    "plt.xlabel(\"Principal Component\")\n",
    "plt.ylabel(\"Corr with Sample Win GC\")"
   ]
  },
  {
   "cell_type": "code",
   "execution_count": 72,
   "metadata": {
    "scrolled": false
   },
   "outputs": [
    {
     "data": {
      "text/plain": [
       "(66089, 1)"
      ]
     },
     "metadata": {},
     "output_type": "display_data"
    },
    {
     "data": {
      "text/plain": [
       "(37, 66089)"
      ]
     },
     "metadata": {},
     "output_type": "display_data"
    },
    {
     "data": {
      "text/plain": [
       "(1, 37)"
      ]
     },
     "metadata": {},
     "output_type": "display_data"
    },
    {
     "data": {
      "text/plain": [
       "array([[-0.33824366, -0.24665945, -0.12607351,  0.23431759,  0.00665429,\n",
       "         0.03499796,  0.06666654, -0.09233407,  0.02925108,  0.09290307,\n",
       "         0.05454314,  0.05250044, -0.0396498 , -0.01732505, -0.01959041,\n",
       "        -0.00514168, -0.02887469, -0.07659822, -0.13117289,  0.04731225,\n",
       "        -0.06951222, -0.09232149,  0.08915409,  0.10995253, -0.02350354,\n",
       "        -0.05389248,  0.0466914 , -0.04800744,  0.02346501,  0.0031751 ,\n",
       "        -0.07444569, -0.04477329,  0.01802156, -0.00358574, -0.03128201,\n",
       "         0.07018197, -0.00338507]])"
      ]
     },
     "metadata": {},
     "output_type": "display_data"
    }
   ],
   "source": [
    "display(filt_ref_gc_by_win.shape)\n",
    "display(pca.components_.shape) \n",
    "# Find correlation of each window contribution to PC vs each window Ref GC for each principal component\n",
    "# We should end up with a correlation coefficient value for each of the 37 principal components.\n",
    "corr_ref_gc_pc = colcorr(A=loadings_df.transpose().as_matrix(), b=filt_ref_gc_by_win)\n",
    "display(corr_ref_gc_pc.shape)\n",
    "display(corr_ref_gc_pc)"
   ]
  },
  {
   "cell_type": "code",
   "execution_count": 73,
   "metadata": {},
   "outputs": [
    {
     "data": {
      "text/plain": [
       "<matplotlib.text.Text at 0x123cdf198>"
      ]
     },
     "execution_count": 73,
     "metadata": {},
     "output_type": "execute_result"
    },
    {
     "data": {
      "image/png": "[encoded data removed]",
      "text/plain": [
       "<matplotlib.figure.Figure at 0x120192470>"
      ]
     },
     "metadata": {},
     "output_type": "display_data"
    }
   ],
   "source": [
    "# Plot correlations between Ref GC and principal components\n",
    "plt.plot(range(1, pca.components_.shape[0]+1), np.ndarray.flatten(corr_ref_gc_pc))\n",
    "plt.title(\"Correlation\")\n",
    "plt.xlabel(\"Principal Component\")\n",
    "plt.ylabel(\"Corr with Ref GC\")"
   ]
  },
  {
   "cell_type": "code",
   "execution_count": 74,
   "metadata": {
    "collapsed": true
   },
   "outputs": [],
   "source": [
    "# Find correlation between target mean GC and Principal Component\n",
    "\n",
    "\n",
    "# The pysam stats are stored on disk, split by sample and chromosome.\n",
    "\n",
    "def get_win_ave_gc(pysam_gc_stats_tsv_pattern, samples, chroms):\n",
    "    \"\"\"\n",
    "    For each window, find the average read depth across samples.\n",
    "    \"\"\"\n",
    "    is_stop = False\n",
    "    prev_pysam_by_win = pandas.DataFrame()\n",
    "\n",
    "    for i, chrom in enumerate(chroms):\n",
    "        for j, sample in enumerate(samples):\n",
    "            filled_pysam_gc_stats_tsv_pattern = pysam_gc_stats_tsv_pattern.replace(\"{SAMPLE}\", sample)\n",
    "            filled_pysam_gc_stats_tsv_pattern = filled_pysam_gc_stats_tsv_pattern.replace(\"{CHROM}\", chrom)\n",
    "            \n",
    "            for pysam_gc_stats_tsv in glob.glob(filled_pysam_gc_stats_tsv_pattern):\n",
    "                display(pysam_gc_stats_tsv)\n",
    "                # Per-position GC content, read coverage.  \n",
    "                # We don't care about properly paired reads here, since there could be \n",
    "                # inversions, deletions, insertions that alter orientation of read pairs.\n",
    "                pysam_gc = pandas.read_csv(pysam_gc_stats_tsv, sep=\"\\t\")\n",
    "                # Indicate the window start position\n",
    "                pysam_gc[\"window\"] =  300 * (pysam_gc.pos // 300)\n",
    "\n",
    "                # Aggregate gc, reads by window.  Weighted average because end windows might be < 300bp.\n",
    "                # In order to avoid having all pysamstats from all chromosomes in memory,\n",
    "                # we do a running weighted average.\n",
    "\n",
    "                pysam_by_win = pysam_gc.groupby([\"chrom\", \"window\"]).agg({\n",
    "                    'gc': {'gc_win_mean': 'mean'},\n",
    "                    'reads_all': {'reads_all_win_mean': \"mean\"},\n",
    "                    'pos': {\"win_size\": \"count\"}\n",
    "                })\n",
    "                pysam_by_win.columns = pysam_by_win.columns.droplevel()\n",
    "                pysam_by_win[\"gc_x_win_size\"] = pysam_by_win[\"gc_win_mean\"] * pysam_by_win[\"win_size\"]\n",
    "                pysam_by_win[\"reads_x_win_size\"] = pysam_by_win[\"reads_all_win_mean\"] * pysam_by_win[\"win_size\"]\n",
    "                \n",
    "#                 display(pysam_by_win.shape)\n",
    "#                 display(pysam_by_win.head())\n",
    "                \n",
    "                if prev_pysam_by_win.shape[0]:\n",
    "                    pysam_by_win = pysam_by_win.add(prev_pysam_by_win, axis=\"index\", fill_value=0)\n",
    "\n",
    "#                 display(pysam_by_win.shape)\n",
    "#                 display(pysam_by_win.head())\n",
    "\n",
    "                prev_pysam_by_win = pysam_by_win\n",
    "                \n",
    "                \n",
    "#             if j > 2:\n",
    "#                 break\n",
    "#         if i > 2:\n",
    "#             break\n",
    "            \n",
    "        \n",
    "        \n",
    "    pysam_by_win[\"weighted_gc_win_mean\"] = pysam_by_win[\"gc_x_win_size\"] / pysam_by_win[\"win_size\"]\n",
    "    \n",
    "    return pysam_by_win"
   ]
  },
  {
   "cell_type": "code",
   "execution_count": 75,
   "metadata": {},
   "outputs": [
    {
     "data": {
      "text/plain": [
       "['Pf3D7_05_v3',\n",
       " 'Pf3D7_10_v3',\n",
       " 'Pf3D7_07_v3',\n",
       " 'Pf3D7_03_v3',\n",
       " 'Pf3D7_13_v3',\n",
       " 'Pf3D7_11_v3',\n",
       " 'Pf3D7_14_v3',\n",
       " 'Pf3D7_09_v3',\n",
       " 'Pf3D7_01_v3',\n",
       " 'Pf3D7_12_v3',\n",
       " 'Pf3D7_08_v3',\n",
       " 'Pf3D7_06_v3',\n",
       " 'Pf3D7_04_v3',\n",
       " 'Pf3D7_02_v3',\n",
       " 'M76611',\n",
       " 'PFC10_API_IRAB']"
      ]
     },
     "execution_count": 75,
     "metadata": {},
     "output_type": "execute_result"
    }
   ],
   "source": [
    "import Bio.SeqIO as SeqIO\n",
    "\n",
    "chroms = []\n",
    "for record in SeqIO.parse(REF_FASTA, \"fasta\"):\n",
    "    chroms.append(record.id)\n",
    "chroms\n"
   ]
  },
  {
   "cell_type": "code",
   "execution_count": 76,
   "metadata": {},
   "outputs": [
    {
     "data": {
      "text/plain": [
       "(77303, 6)"
      ]
     },
     "metadata": {},
     "output_type": "display_data"
    },
    {
     "data": {
      "text/html": [
       "<div>\n",
       "<style>\n",
       "    .dataframe thead tr:only-child th {\n",
       "        text-align: right;\n",
       "    }\n",
       "\n",
       "    .dataframe thead th {\n",
       "        text-align: left;\n",
       "    }\n",
       "\n",
       "    .dataframe tbody tr th {\n",
       "        vertical-align: top;\n",
       "    }\n",
       "</style>\n",
       "<table border=\"1\" class=\"dataframe\">\n",
       "  <thead>\n",
       "    <tr style=\"text-align: right;\">\n",
       "      <th></th>\n",
       "      <th></th>\n",
       "      <th>win_size</th>\n",
       "      <th>reads_all_win_mean</th>\n",
       "      <th>gc_win_mean</th>\n",
       "      <th>gc_x_win_size</th>\n",
       "      <th>reads_x_win_size</th>\n",
       "      <th>weighted_gc_win_mean</th>\n",
       "    </tr>\n",
       "    <tr>\n",
       "      <th>chrom</th>\n",
       "      <th>window</th>\n",
       "      <th></th>\n",
       "      <th></th>\n",
       "      <th></th>\n",
       "      <th></th>\n",
       "      <th></th>\n",
       "      <th></th>\n",
       "    </tr>\n",
       "  </thead>\n",
       "  <tbody>\n",
       "    <tr>\n",
       "      <th rowspan=\"5\" valign=\"top\">M76611</th>\n",
       "      <th>0</th>\n",
       "      <td>7029.0</td>\n",
       "      <td>143.110720</td>\n",
       "      <td>1063.255599</td>\n",
       "      <td>257208.0</td>\n",
       "      <td>37409.0</td>\n",
       "      <td>36.592403</td>\n",
       "    </tr>\n",
       "    <tr>\n",
       "      <th>300</th>\n",
       "      <td>8647.0</td>\n",
       "      <td>179.017450</td>\n",
       "      <td>1171.860174</td>\n",
       "      <td>327467.0</td>\n",
       "      <td>52867.0</td>\n",
       "      <td>37.870591</td>\n",
       "    </tr>\n",
       "    <tr>\n",
       "      <th>600</th>\n",
       "      <td>8766.0</td>\n",
       "      <td>173.270242</td>\n",
       "      <td>880.462466</td>\n",
       "      <td>240010.0</td>\n",
       "      <td>50924.0</td>\n",
       "      <td>27.379649</td>\n",
       "    </tr>\n",
       "    <tr>\n",
       "      <th>900</th>\n",
       "      <td>8610.0</td>\n",
       "      <td>183.224231</td>\n",
       "      <td>709.035065</td>\n",
       "      <td>203515.0</td>\n",
       "      <td>54412.0</td>\n",
       "      <td>23.637050</td>\n",
       "    </tr>\n",
       "    <tr>\n",
       "      <th>1200</th>\n",
       "      <td>8992.0</td>\n",
       "      <td>200.435344</td>\n",
       "      <td>815.556972</td>\n",
       "      <td>228699.0</td>\n",
       "      <td>59394.0</td>\n",
       "      <td>25.433608</td>\n",
       "    </tr>\n",
       "  </tbody>\n",
       "</table>\n",
       "</div>"
      ],
      "text/plain": [
       "               win_size  reads_all_win_mean  gc_win_mean  gc_x_win_size  \\\n",
       "chrom  window                                                             \n",
       "M76611 0         7029.0          143.110720  1063.255599       257208.0   \n",
       "       300       8647.0          179.017450  1171.860174       327467.0   \n",
       "       600       8766.0          173.270242   880.462466       240010.0   \n",
       "       900       8610.0          183.224231   709.035065       203515.0   \n",
       "       1200      8992.0          200.435344   815.556972       228699.0   \n",
       "\n",
       "               reads_x_win_size  weighted_gc_win_mean  \n",
       "chrom  window                                          \n",
       "M76611 0                37409.0             36.592403  \n",
       "       300              52867.0             37.870591  \n",
       "       600              50924.0             27.379649  \n",
       "       900              54412.0             23.637050  \n",
       "       1200             59394.0             25.433608  "
      ]
     },
     "metadata": {},
     "output_type": "display_data"
    }
   ],
   "source": [
    "if os.path.exists(SAMPLE_WIN_AVE_GC_TSV):\n",
    "    win_ave = pandas.read_csv(SAMPLE_WIN_AVE_GC_TSV, sep=\"\\t\")\n",
    "    win_ave = win_ave.set_index([\"chrom\", \"window\"])\n",
    "else:\n",
    "    win_ave = get_win_ave_gc(pysam_gc_stats_tsv_pattern=PYSAM_GC_STATS_PATTERN, \n",
    "                samples=samples, chroms=chroms)\n",
    "display(win_ave.shape)\n",
    "display(win_ave.head())"
   ]
  },
  {
   "cell_type": "code",
   "execution_count": 77,
   "metadata": {
    "collapsed": true
   },
   "outputs": [],
   "source": [
    "if not os.path.exists(SAMPLE_WIN_AVE_GC_TSV):\n",
    "    win_ave.to_csv(SAMPLE_WIN_AVE_GC_TSV, sep=\"\\t\", index=True)"
   ]
  },
  {
   "cell_type": "code",
   "execution_count": 78,
   "metadata": {
    "scrolled": false
   },
   "outputs": [
    {
     "data": {
      "text/plain": [
       "(37, 66089)"
      ]
     },
     "metadata": {},
     "output_type": "display_data"
    },
    {
     "data": {
      "text/html": [
       "<div>\n",
       "<style>\n",
       "    .dataframe thead tr:only-child th {\n",
       "        text-align: right;\n",
       "    }\n",
       "\n",
       "    .dataframe thead th {\n",
       "        text-align: left;\n",
       "    }\n",
       "\n",
       "    .dataframe tbody tr th {\n",
       "        vertical-align: top;\n",
       "    }\n",
       "</style>\n",
       "<table border=\"1\" class=\"dataframe\">\n",
       "  <thead>\n",
       "    <tr style=\"text-align: right;\">\n",
       "      <th></th>\n",
       "      <th>Pf3D7_05_v3:27001-27298</th>\n",
       "      <th>Pf3D7_05_v3:27301-27598</th>\n",
       "      <th>Pf3D7_05_v3:27601-27898</th>\n",
       "      <th>Pf3D7_05_v3:27901-28198</th>\n",
       "      <th>Pf3D7_05_v3:28201-28498</th>\n",
       "      <th>Pf3D7_05_v3:28501-28798</th>\n",
       "      <th>Pf3D7_05_v3:29101-29398</th>\n",
       "      <th>Pf3D7_05_v3:30601-30898</th>\n",
       "      <th>Pf3D7_05_v3:33601-33898</th>\n",
       "      <th>Pf3D7_05_v3:36301-36598</th>\n",
       "      <th>...</th>\n",
       "      <th>PFC10_API_IRAB:19201-19498</th>\n",
       "      <th>PFC10_API_IRAB:19501-19798</th>\n",
       "      <th>PFC10_API_IRAB:19801-20098</th>\n",
       "      <th>PFC10_API_IRAB:20101-20398</th>\n",
       "      <th>PFC10_API_IRAB:20401-20698</th>\n",
       "      <th>PFC10_API_IRAB:21001-21298</th>\n",
       "      <th>PFC10_API_IRAB:21301-21598</th>\n",
       "      <th>PFC10_API_IRAB:25801-26098</th>\n",
       "      <th>PFC10_API_IRAB:26101-26398</th>\n",
       "      <th>PFC10_API_IRAB:27001-27298</th>\n",
       "    </tr>\n",
       "  </thead>\n",
       "  <tbody>\n",
       "    <tr>\n",
       "      <th>0</th>\n",
       "      <td>1.816365</td>\n",
       "      <td>2.256282</td>\n",
       "      <td>3.661736</td>\n",
       "      <td>3.382589</td>\n",
       "      <td>3.001447</td>\n",
       "      <td>3.879316</td>\n",
       "      <td>14.982364</td>\n",
       "      <td>-2.939794</td>\n",
       "      <td>-4.692370</td>\n",
       "      <td>-1.704688</td>\n",
       "      <td>...</td>\n",
       "      <td>-8.433958</td>\n",
       "      <td>-9.083979</td>\n",
       "      <td>-8.922022</td>\n",
       "      <td>-8.837927</td>\n",
       "      <td>-7.626305</td>\n",
       "      <td>-3.510024</td>\n",
       "      <td>-3.797796</td>\n",
       "      <td>-4.300288</td>\n",
       "      <td>-3.562291</td>\n",
       "      <td>-3.935604</td>\n",
       "    </tr>\n",
       "    <tr>\n",
       "      <th>1</th>\n",
       "      <td>5.430406</td>\n",
       "      <td>1.664289</td>\n",
       "      <td>2.029012</td>\n",
       "      <td>1.505716</td>\n",
       "      <td>7.256232</td>\n",
       "      <td>5.166784</td>\n",
       "      <td>1.374975</td>\n",
       "      <td>1.659922</td>\n",
       "      <td>1.610624</td>\n",
       "      <td>8.321250</td>\n",
       "      <td>...</td>\n",
       "      <td>7.721418</td>\n",
       "      <td>7.630531</td>\n",
       "      <td>7.167380</td>\n",
       "      <td>5.800202</td>\n",
       "      <td>5.208861</td>\n",
       "      <td>8.412177</td>\n",
       "      <td>9.219300</td>\n",
       "      <td>3.132744</td>\n",
       "      <td>4.560649</td>\n",
       "      <td>3.537066</td>\n",
       "    </tr>\n",
       "    <tr>\n",
       "      <th>2</th>\n",
       "      <td>6.599087</td>\n",
       "      <td>9.322422</td>\n",
       "      <td>11.636936</td>\n",
       "      <td>7.632433</td>\n",
       "      <td>7.475841</td>\n",
       "      <td>5.684412</td>\n",
       "      <td>14.387243</td>\n",
       "      <td>1.334181</td>\n",
       "      <td>2.250627</td>\n",
       "      <td>8.348187</td>\n",
       "      <td>...</td>\n",
       "      <td>6.504170</td>\n",
       "      <td>5.982885</td>\n",
       "      <td>5.565573</td>\n",
       "      <td>5.780135</td>\n",
       "      <td>5.768386</td>\n",
       "      <td>9.057041</td>\n",
       "      <td>9.877397</td>\n",
       "      <td>8.632207</td>\n",
       "      <td>6.788981</td>\n",
       "      <td>3.549605</td>\n",
       "    </tr>\n",
       "    <tr>\n",
       "      <th>3</th>\n",
       "      <td>3.474816</td>\n",
       "      <td>11.239264</td>\n",
       "      <td>12.691478</td>\n",
       "      <td>7.870343</td>\n",
       "      <td>2.732328</td>\n",
       "      <td>0.489852</td>\n",
       "      <td>9.503883</td>\n",
       "      <td>-2.062078</td>\n",
       "      <td>0.389535</td>\n",
       "      <td>1.450872</td>\n",
       "      <td>...</td>\n",
       "      <td>-3.446690</td>\n",
       "      <td>-3.332204</td>\n",
       "      <td>-3.378150</td>\n",
       "      <td>-2.970004</td>\n",
       "      <td>-2.730267</td>\n",
       "      <td>-5.607916</td>\n",
       "      <td>-6.945640</td>\n",
       "      <td>-2.167484</td>\n",
       "      <td>-2.602487</td>\n",
       "      <td>0.115741</td>\n",
       "    </tr>\n",
       "    <tr>\n",
       "      <th>4</th>\n",
       "      <td>2.874021</td>\n",
       "      <td>4.507425</td>\n",
       "      <td>5.555514</td>\n",
       "      <td>-1.281428</td>\n",
       "      <td>-2.352848</td>\n",
       "      <td>-3.494041</td>\n",
       "      <td>-11.387458</td>\n",
       "      <td>-1.161730</td>\n",
       "      <td>-2.815863</td>\n",
       "      <td>-3.335667</td>\n",
       "      <td>...</td>\n",
       "      <td>-1.824238</td>\n",
       "      <td>-0.856852</td>\n",
       "      <td>-0.825034</td>\n",
       "      <td>-1.357016</td>\n",
       "      <td>-1.233739</td>\n",
       "      <td>-0.869084</td>\n",
       "      <td>-0.987164</td>\n",
       "      <td>-2.632044</td>\n",
       "      <td>-1.050302</td>\n",
       "      <td>-1.282558</td>\n",
       "    </tr>\n",
       "  </tbody>\n",
       "</table>\n",
       "<p>5 rows × 66089 columns</p>\n",
       "</div>"
      ],
      "text/plain": [
       "   Pf3D7_05_v3:27001-27298  Pf3D7_05_v3:27301-27598  Pf3D7_05_v3:27601-27898  \\\n",
       "0                 1.816365                 2.256282                 3.661736   \n",
       "1                 5.430406                 1.664289                 2.029012   \n",
       "2                 6.599087                 9.322422                11.636936   \n",
       "3                 3.474816                11.239264                12.691478   \n",
       "4                 2.874021                 4.507425                 5.555514   \n",
       "\n",
       "   Pf3D7_05_v3:27901-28198  Pf3D7_05_v3:28201-28498  Pf3D7_05_v3:28501-28798  \\\n",
       "0                 3.382589                 3.001447                 3.879316   \n",
       "1                 1.505716                 7.256232                 5.166784   \n",
       "2                 7.632433                 7.475841                 5.684412   \n",
       "3                 7.870343                 2.732328                 0.489852   \n",
       "4                -1.281428                -2.352848                -3.494041   \n",
       "\n",
       "   Pf3D7_05_v3:29101-29398  Pf3D7_05_v3:30601-30898  Pf3D7_05_v3:33601-33898  \\\n",
       "0                14.982364                -2.939794                -4.692370   \n",
       "1                 1.374975                 1.659922                 1.610624   \n",
       "2                14.387243                 1.334181                 2.250627   \n",
       "3                 9.503883                -2.062078                 0.389535   \n",
       "4               -11.387458                -1.161730                -2.815863   \n",
       "\n",
       "   Pf3D7_05_v3:36301-36598             ...              \\\n",
       "0                -1.704688             ...               \n",
       "1                 8.321250             ...               \n",
       "2                 8.348187             ...               \n",
       "3                 1.450872             ...               \n",
       "4                -3.335667             ...               \n",
       "\n",
       "   PFC10_API_IRAB:19201-19498  PFC10_API_IRAB:19501-19798  \\\n",
       "0                   -8.433958                   -9.083979   \n",
       "1                    7.721418                    7.630531   \n",
       "2                    6.504170                    5.982885   \n",
       "3                   -3.446690                   -3.332204   \n",
       "4                   -1.824238                   -0.856852   \n",
       "\n",
       "   PFC10_API_IRAB:19801-20098  PFC10_API_IRAB:20101-20398  \\\n",
       "0                   -8.922022                   -8.837927   \n",
       "1                    7.167380                    5.800202   \n",
       "2                    5.565573                    5.780135   \n",
       "3                   -3.378150                   -2.970004   \n",
       "4                   -0.825034                   -1.357016   \n",
       "\n",
       "   PFC10_API_IRAB:20401-20698  PFC10_API_IRAB:21001-21298  \\\n",
       "0                   -7.626305                   -3.510024   \n",
       "1                    5.208861                    8.412177   \n",
       "2                    5.768386                    9.057041   \n",
       "3                   -2.730267                   -5.607916   \n",
       "4                   -1.233739                   -0.869084   \n",
       "\n",
       "   PFC10_API_IRAB:21301-21598  PFC10_API_IRAB:25801-26098  \\\n",
       "0                   -3.797796                   -4.300288   \n",
       "1                    9.219300                    3.132744   \n",
       "2                    9.877397                    8.632207   \n",
       "3                   -6.945640                   -2.167484   \n",
       "4                   -0.987164                   -2.632044   \n",
       "\n",
       "   PFC10_API_IRAB:26101-26398  PFC10_API_IRAB:27001-27298  \n",
       "0                   -3.562291                   -3.935604  \n",
       "1                    4.560649                    3.537066  \n",
       "2                    6.788981                    3.549605  \n",
       "3                   -2.602487                    0.115741  \n",
       "4                   -1.050302                   -1.282558  \n",
       "\n",
       "[5 rows x 66089 columns]"
      ]
     },
     "metadata": {},
     "output_type": "display_data"
    },
    {
     "data": {
      "text/html": [
       "<div>\n",
       "<style>\n",
       "    .dataframe thead tr:only-child th {\n",
       "        text-align: right;\n",
       "    }\n",
       "\n",
       "    .dataframe thead th {\n",
       "        text-align: left;\n",
       "    }\n",
       "\n",
       "    .dataframe tbody tr th {\n",
       "        vertical-align: top;\n",
       "    }\n",
       "</style>\n",
       "<table border=\"1\" class=\"dataframe\">\n",
       "  <thead>\n",
       "    <tr style=\"text-align: right;\">\n",
       "      <th></th>\n",
       "      <th></th>\n",
       "      <th>PC0</th>\n",
       "      <th>PC1</th>\n",
       "      <th>PC2</th>\n",
       "      <th>PC3</th>\n",
       "      <th>PC4</th>\n",
       "      <th>PC5</th>\n",
       "      <th>PC6</th>\n",
       "      <th>PC7</th>\n",
       "      <th>PC8</th>\n",
       "      <th>PC9</th>\n",
       "      <th>...</th>\n",
       "      <th>PC27</th>\n",
       "      <th>PC28</th>\n",
       "      <th>PC29</th>\n",
       "      <th>PC30</th>\n",
       "      <th>PC31</th>\n",
       "      <th>PC32</th>\n",
       "      <th>PC33</th>\n",
       "      <th>PC34</th>\n",
       "      <th>PC35</th>\n",
       "      <th>PC36</th>\n",
       "    </tr>\n",
       "    <tr>\n",
       "      <th>chrom</th>\n",
       "      <th>window</th>\n",
       "      <th></th>\n",
       "      <th></th>\n",
       "      <th></th>\n",
       "      <th></th>\n",
       "      <th></th>\n",
       "      <th></th>\n",
       "      <th></th>\n",
       "      <th></th>\n",
       "      <th></th>\n",
       "      <th></th>\n",
       "      <th></th>\n",
       "      <th></th>\n",
       "      <th></th>\n",
       "      <th></th>\n",
       "      <th></th>\n",
       "      <th></th>\n",
       "      <th></th>\n",
       "      <th></th>\n",
       "      <th></th>\n",
       "      <th></th>\n",
       "      <th></th>\n",
       "    </tr>\n",
       "  </thead>\n",
       "  <tbody>\n",
       "    <tr>\n",
       "      <th rowspan=\"5\" valign=\"top\">Pf3D7_05_v3</th>\n",
       "      <th>27000</th>\n",
       "      <td>1.816365</td>\n",
       "      <td>5.430406</td>\n",
       "      <td>6.599087</td>\n",
       "      <td>3.474816</td>\n",
       "      <td>2.874021</td>\n",
       "      <td>0.765310</td>\n",
       "      <td>-2.688514</td>\n",
       "      <td>-2.727811</td>\n",
       "      <td>0.309331</td>\n",
       "      <td>0.892793</td>\n",
       "      <td>...</td>\n",
       "      <td>0.235167</td>\n",
       "      <td>1.506767</td>\n",
       "      <td>4.418669</td>\n",
       "      <td>-2.281400</td>\n",
       "      <td>-0.913161</td>\n",
       "      <td>0.023261</td>\n",
       "      <td>0.817202</td>\n",
       "      <td>1.323653</td>\n",
       "      <td>-0.222417</td>\n",
       "      <td>7.906682e-13</td>\n",
       "    </tr>\n",
       "    <tr>\n",
       "      <th>27300</th>\n",
       "      <td>2.256282</td>\n",
       "      <td>1.664289</td>\n",
       "      <td>9.322422</td>\n",
       "      <td>11.239264</td>\n",
       "      <td>4.507425</td>\n",
       "      <td>0.199382</td>\n",
       "      <td>-4.452174</td>\n",
       "      <td>-5.959986</td>\n",
       "      <td>-0.527893</td>\n",
       "      <td>1.160243</td>\n",
       "      <td>...</td>\n",
       "      <td>-0.609119</td>\n",
       "      <td>2.915801</td>\n",
       "      <td>10.458560</td>\n",
       "      <td>-6.878435</td>\n",
       "      <td>-0.219584</td>\n",
       "      <td>-1.797259</td>\n",
       "      <td>4.086697</td>\n",
       "      <td>2.974103</td>\n",
       "      <td>-0.645629</td>\n",
       "      <td>-8.106575e-13</td>\n",
       "    </tr>\n",
       "    <tr>\n",
       "      <th>27600</th>\n",
       "      <td>3.661736</td>\n",
       "      <td>2.029012</td>\n",
       "      <td>11.636936</td>\n",
       "      <td>12.691478</td>\n",
       "      <td>5.555514</td>\n",
       "      <td>-1.905522</td>\n",
       "      <td>-5.702624</td>\n",
       "      <td>-7.432211</td>\n",
       "      <td>-2.556127</td>\n",
       "      <td>0.719409</td>\n",
       "      <td>...</td>\n",
       "      <td>-3.427153</td>\n",
       "      <td>2.825704</td>\n",
       "      <td>16.799550</td>\n",
       "      <td>-12.621523</td>\n",
       "      <td>-3.007223</td>\n",
       "      <td>-8.697596</td>\n",
       "      <td>4.013347</td>\n",
       "      <td>3.455978</td>\n",
       "      <td>2.039573</td>\n",
       "      <td>-9.829838e-13</td>\n",
       "    </tr>\n",
       "    <tr>\n",
       "      <th>27900</th>\n",
       "      <td>3.382589</td>\n",
       "      <td>1.505716</td>\n",
       "      <td>7.632433</td>\n",
       "      <td>7.870343</td>\n",
       "      <td>-1.281428</td>\n",
       "      <td>-0.875976</td>\n",
       "      <td>-8.880963</td>\n",
       "      <td>-5.886118</td>\n",
       "      <td>-5.728500</td>\n",
       "      <td>-0.434929</td>\n",
       "      <td>...</td>\n",
       "      <td>-7.315083</td>\n",
       "      <td>3.438889</td>\n",
       "      <td>22.082696</td>\n",
       "      <td>-16.153498</td>\n",
       "      <td>-3.445006</td>\n",
       "      <td>-12.662667</td>\n",
       "      <td>5.458410</td>\n",
       "      <td>4.398398</td>\n",
       "      <td>1.982595</td>\n",
       "      <td>1.278844e-12</td>\n",
       "    </tr>\n",
       "    <tr>\n",
       "      <th>28200</th>\n",
       "      <td>3.001447</td>\n",
       "      <td>7.256232</td>\n",
       "      <td>7.475841</td>\n",
       "      <td>2.732328</td>\n",
       "      <td>-2.352848</td>\n",
       "      <td>-1.970207</td>\n",
       "      <td>-4.759277</td>\n",
       "      <td>-4.151273</td>\n",
       "      <td>-1.568234</td>\n",
       "      <td>-1.674885</td>\n",
       "      <td>...</td>\n",
       "      <td>-2.333068</td>\n",
       "      <td>3.515012</td>\n",
       "      <td>9.638184</td>\n",
       "      <td>-4.975115</td>\n",
       "      <td>-0.711780</td>\n",
       "      <td>-2.892389</td>\n",
       "      <td>2.228902</td>\n",
       "      <td>1.959629</td>\n",
       "      <td>0.032069</td>\n",
       "      <td>-6.371194e-13</td>\n",
       "    </tr>\n",
       "  </tbody>\n",
       "</table>\n",
       "<p>5 rows × 37 columns</p>\n",
       "</div>"
      ],
      "text/plain": [
       "                         PC0       PC1        PC2        PC3       PC4  \\\n",
       "chrom       window                                                       \n",
       "Pf3D7_05_v3 27000   1.816365  5.430406   6.599087   3.474816  2.874021   \n",
       "            27300   2.256282  1.664289   9.322422  11.239264  4.507425   \n",
       "            27600   3.661736  2.029012  11.636936  12.691478  5.555514   \n",
       "            27900   3.382589  1.505716   7.632433   7.870343 -1.281428   \n",
       "            28200   3.001447  7.256232   7.475841   2.732328 -2.352848   \n",
       "\n",
       "                         PC5       PC6       PC7       PC8       PC9  \\\n",
       "chrom       window                                                     \n",
       "Pf3D7_05_v3 27000   0.765310 -2.688514 -2.727811  0.309331  0.892793   \n",
       "            27300   0.199382 -4.452174 -5.959986 -0.527893  1.160243   \n",
       "            27600  -1.905522 -5.702624 -7.432211 -2.556127  0.719409   \n",
       "            27900  -0.875976 -8.880963 -5.886118 -5.728500 -0.434929   \n",
       "            28200  -1.970207 -4.759277 -4.151273 -1.568234 -1.674885   \n",
       "\n",
       "                        ...           PC27      PC28       PC29       PC30  \\\n",
       "chrom       window      ...                                                  \n",
       "Pf3D7_05_v3 27000       ...       0.235167  1.506767   4.418669  -2.281400   \n",
       "            27300       ...      -0.609119  2.915801  10.458560  -6.878435   \n",
       "            27600       ...      -3.427153  2.825704  16.799550 -12.621523   \n",
       "            27900       ...      -7.315083  3.438889  22.082696 -16.153498   \n",
       "            28200       ...      -2.333068  3.515012   9.638184  -4.975115   \n",
       "\n",
       "                        PC31       PC32      PC33      PC34      PC35  \\\n",
       "chrom       window                                                      \n",
       "Pf3D7_05_v3 27000  -0.913161   0.023261  0.817202  1.323653 -0.222417   \n",
       "            27300  -0.219584  -1.797259  4.086697  2.974103 -0.645629   \n",
       "            27600  -3.007223  -8.697596  4.013347  3.455978  2.039573   \n",
       "            27900  -3.445006 -12.662667  5.458410  4.398398  1.982595   \n",
       "            28200  -0.711780  -2.892389  2.228902  1.959629  0.032069   \n",
       "\n",
       "                            PC36  \n",
       "chrom       window                \n",
       "Pf3D7_05_v3 27000   7.906682e-13  \n",
       "            27300  -8.106575e-13  \n",
       "            27600  -9.829838e-13  \n",
       "            27900   1.278844e-12  \n",
       "            28200  -6.371194e-13  \n",
       "\n",
       "[5 rows x 37 columns]"
      ]
     },
     "metadata": {},
     "output_type": "display_data"
    },
    {
     "data": {
      "text/plain": [
       "(77303, 6)"
      ]
     },
     "metadata": {},
     "output_type": "display_data"
    },
    {
     "data": {
      "text/plain": [
       "(66089, 6)"
      ]
     },
     "metadata": {},
     "output_type": "display_data"
    },
    {
     "data": {
      "text/html": [
       "<div>\n",
       "<style>\n",
       "    .dataframe thead tr:only-child th {\n",
       "        text-align: right;\n",
       "    }\n",
       "\n",
       "    .dataframe thead th {\n",
       "        text-align: left;\n",
       "    }\n",
       "\n",
       "    .dataframe tbody tr th {\n",
       "        vertical-align: top;\n",
       "    }\n",
       "</style>\n",
       "<table border=\"1\" class=\"dataframe\">\n",
       "  <thead>\n",
       "    <tr style=\"text-align: right;\">\n",
       "      <th></th>\n",
       "      <th></th>\n",
       "      <th>win_size</th>\n",
       "      <th>reads_all_win_mean</th>\n",
       "      <th>gc_win_mean</th>\n",
       "      <th>gc_x_win_size</th>\n",
       "      <th>reads_x_win_size</th>\n",
       "      <th>weighted_gc_win_mean</th>\n",
       "    </tr>\n",
       "    <tr>\n",
       "      <th>chrom</th>\n",
       "      <th>window</th>\n",
       "      <th></th>\n",
       "      <th></th>\n",
       "      <th></th>\n",
       "      <th></th>\n",
       "      <th></th>\n",
       "      <th></th>\n",
       "    </tr>\n",
       "  </thead>\n",
       "  <tbody>\n",
       "    <tr>\n",
       "      <th rowspan=\"5\" valign=\"top\">Pf3D7_05_v3</th>\n",
       "      <th>27000</th>\n",
       "      <td>10469.0</td>\n",
       "      <td>902.160781</td>\n",
       "      <td>748.286836</td>\n",
       "      <td>216205.0</td>\n",
       "      <td>269548.0</td>\n",
       "      <td>20.651925</td>\n",
       "    </tr>\n",
       "    <tr>\n",
       "      <th>27300</th>\n",
       "      <td>10800.0</td>\n",
       "      <td>2226.790000</td>\n",
       "      <td>1163.280000</td>\n",
       "      <td>348984.0</td>\n",
       "      <td>668037.0</td>\n",
       "      <td>32.313333</td>\n",
       "    </tr>\n",
       "    <tr>\n",
       "      <th>27600</th>\n",
       "      <td>10639.0</td>\n",
       "      <td>1858.872297</td>\n",
       "      <td>895.794008</td>\n",
       "      <td>264713.0</td>\n",
       "      <td>554116.0</td>\n",
       "      <td>24.881380</td>\n",
       "    </tr>\n",
       "    <tr>\n",
       "      <th>27900</th>\n",
       "      <td>10800.0</td>\n",
       "      <td>2155.073333</td>\n",
       "      <td>1178.040000</td>\n",
       "      <td>353412.0</td>\n",
       "      <td>646522.0</td>\n",
       "      <td>32.723333</td>\n",
       "    </tr>\n",
       "    <tr>\n",
       "      <th>28200</th>\n",
       "      <td>10256.0</td>\n",
       "      <td>837.484271</td>\n",
       "      <td>917.901685</td>\n",
       "      <td>261953.0</td>\n",
       "      <td>249109.0</td>\n",
       "      <td>25.541439</td>\n",
       "    </tr>\n",
       "  </tbody>\n",
       "</table>\n",
       "</div>"
      ],
      "text/plain": [
       "                    win_size  reads_all_win_mean  gc_win_mean  gc_x_win_size  \\\n",
       "chrom       window                                                             \n",
       "Pf3D7_05_v3 27000    10469.0          902.160781   748.286836       216205.0   \n",
       "            27300    10800.0         2226.790000  1163.280000       348984.0   \n",
       "            27600    10639.0         1858.872297   895.794008       264713.0   \n",
       "            27900    10800.0         2155.073333  1178.040000       353412.0   \n",
       "            28200    10256.0          837.484271   917.901685       261953.0   \n",
       "\n",
       "                    reads_x_win_size  weighted_gc_win_mean  \n",
       "chrom       window                                          \n",
       "Pf3D7_05_v3 27000           269548.0             20.651925  \n",
       "            27300           668037.0             32.313333  \n",
       "            27600           554116.0             24.881380  \n",
       "            27900           646522.0             32.723333  \n",
       "            28200           249109.0             25.541439  "
      ]
     },
     "metadata": {},
     "output_type": "display_data"
    }
   ],
   "source": [
    "display(loadings_df.shape) \n",
    "display(loadings_df.head())\n",
    "\n",
    "# Convert xhmm targets to windows\n",
    "win_loadings = loadings_df.transpose()\n",
    "win_loadings.columns = [\"PC\" + str(col) for col in win_loadings.columns]\n",
    "win_loadings.index.name = \"target\"\n",
    "win_loadings = win_loadings.reset_index()\n",
    "win_loadings['chrom'], win_loadings['target_range'] = win_loadings['target'].str.split(':', 1).str\n",
    "win_loadings['target_start'], win_loadings['target_end'] = win_loadings['target_range'].str.split('-', 1).str\n",
    "win_loadings['target_start'] = pandas.to_numeric(win_loadings['target_start'])\n",
    "win_loadings[\"window\"] =  300 * (win_loadings.target_start // 300)\n",
    "win_loadings = win_loadings.drop([\"target\", \"target_range\", \"target_start\", \"target_end\"], axis=1)\n",
    "win_loadings = win_loadings.set_index([\"chrom\", \"window\"])\n",
    "display(win_loadings.head())\n",
    "\n",
    "display(win_ave.shape)\n",
    "# create an empty dataframe with just the index from the loading targets\n",
    "# so that when we join, we don't get extra columns in filt_win_ave\n",
    "filt_win_ave = win_ave.join(pandas.DataFrame(index=win_loadings.index.copy()), how=\"right\")\n",
    "display(filt_win_ave.shape)\n",
    "display(filt_win_ave.head())\n"
   ]
  },
  {
   "cell_type": "code",
   "execution_count": 79,
   "metadata": {},
   "outputs": [
    {
     "data": {
      "text/plain": [
       "(66089, 1)"
      ]
     },
     "metadata": {},
     "output_type": "display_data"
    },
    {
     "data": {
      "text/plain": [
       "(37, 66089)"
      ]
     },
     "metadata": {},
     "output_type": "display_data"
    },
    {
     "data": {
      "text/plain": [
       "(1, 37)"
      ]
     },
     "metadata": {},
     "output_type": "display_data"
    },
    {
     "data": {
      "text/plain": [
       "array([[-0.36231078, -0.2633438 , -0.13309823,  0.23976041,  0.01199101,\n",
       "         0.0365012 ,  0.07335069, -0.09936903,  0.03131767,  0.0968771 ,\n",
       "         0.05577571,  0.05508817, -0.04199314, -0.02052609, -0.02282443,\n",
       "        -0.00868504, -0.02915123, -0.08075557, -0.13700294,  0.05236803,\n",
       "        -0.07180323, -0.095759  ,  0.09301075,  0.11300448, -0.02818792,\n",
       "        -0.05666759,  0.05065374, -0.0464541 ,  0.02502423, -0.00154298,\n",
       "        -0.07588971, -0.04518146,  0.01762384, -0.00754718, -0.02816712,\n",
       "         0.07101632, -0.00445725]])"
      ]
     },
     "metadata": {},
     "output_type": "display_data"
    }
   ],
   "source": [
    "display(filt_win_ave[[\"weighted_gc_win_mean\"]].shape)\n",
    "display(pca.components_.shape) \n",
    "# Find correlation of each window contribution to PC vs each window Ref GC for each principal component\n",
    "# We should end up with a correlation coefficient value for each of the 37 principal components.\n",
    "corr_win_ave_gc_pc = colcorr(A=loadings_df.transpose().as_matrix(), b=filt_win_ave[[\"weighted_gc_win_mean\"]])\n",
    "display(corr_win_ave_gc_pc.shape)\n",
    "display(corr_win_ave_gc_pc)"
   ]
  },
  {
   "cell_type": "code",
   "execution_count": 80,
   "metadata": {},
   "outputs": [
    {
     "data": {
      "text/plain": [
       "<matplotlib.text.Text at 0x129a377b8>"
      ]
     },
     "execution_count": 80,
     "metadata": {},
     "output_type": "execute_result"
    },
    {
     "data": {
      "image/png": "[encoded data removed]",
      "text/plain": [
       "<matplotlib.figure.Figure at 0x12b5456d8>"
      ]
     },
     "metadata": {},
     "output_type": "display_data"
    }
   ],
   "source": [
    "plt.plot(range(0, pca.components_.shape[0]), np.ndarray.flatten(corr_win_ave_gc_pc))\n",
    "plt.title(\"Correlation\")\n",
    "plt.xlabel(\"Principal Component\")\n",
    "plt.ylabel(\"Corr with Ave Win GC\")"
   ]
  },
  {
   "cell_type": "code",
   "execution_count": 91,
   "metadata": {
    "collapsed": true
   },
   "outputs": [],
   "source": [
    "# Copied from https://github.com/scikit-learn/scikit-learn/blob/a24c8b464d094d2c468a16ea9f8bf8d42d949f84/sklearn/utils/extmath.py\n",
    "def svd_flip(u, v, u_based_decision=True):\n",
    "    \"\"\"Sign correction to ensure deterministic output from SVD.\n",
    "    Adjusts the columns of u and the rows of v such that the loadings in the\n",
    "    columns in u that are largest in absolute value are always positive.\n",
    "    Parameters\n",
    "    ----------\n",
    "    u, v : ndarray\n",
    "        u and v are the output of `linalg.svd` or\n",
    "        `sklearn.utils.extmath.randomized_svd`, with matching inner dimensions\n",
    "        so one can compute `np.dot(u * s, v)`.\n",
    "    u_based_decision : boolean, (default=True)\n",
    "        If True, use the columns of u as the basis for sign flipping.\n",
    "        Otherwise, use the rows of v. The choice of which variable to base the\n",
    "        decision on is generally algorithm dependent.\n",
    "    Returns\n",
    "    -------\n",
    "    u_adjusted, v_adjusted : arrays with the same dimensions as the input.\n",
    "    \"\"\"\n",
    "    if u_based_decision:\n",
    "        # columns of u, rows of v\n",
    "        max_abs_cols = np.argmax(np.abs(u), axis=0)\n",
    "        signs = np.sign(u[max_abs_cols, range(u.shape[1])])\n",
    "        u *= signs\n",
    "        v *= signs[:, np.newaxis]\n",
    "    else:\n",
    "        # rows of v, columns of u\n",
    "        max_abs_rows = np.argmax(np.abs(v), axis=1)\n",
    "        signs = np.sign(v[range(v.shape[0]), max_abs_rows])\n",
    "        u *= signs\n",
    "        v *= signs[:, np.newaxis]\n",
    "    return u, v\n",
    "\n",
    "# From https://github.com/scikit-learn/scikit-learn/blob/a24c8b46/sklearn/decomposition/pca.py#L107\n",
    "def svd(X):\n",
    "    # Center data\n",
    "    X_mean = np.mean(X, axis=0)\n",
    "    X -= X_mean\n",
    "\n",
    "    U, S, V = scipy.linalg.svd(X, full_matrices=False)\n",
    "    # flip eigenvectors' sign to enforce deterministic output\n",
    "    # See:  https://stackoverflow.com/questions/44765682/in-sklearn-decomposition-pca-why-are-components-negative\n",
    "    # SVD is unique for the eigenvalues, but flipping the signs in the eigenvectors results in \n",
    "    # valid singular vectors as long as we flip signs for both U and V the same way.\n",
    "    # In order to guarantee that the same eigenvectors are always returned, \n",
    "    # arbitrarily set the largest coefficient in U as positive.\n",
    "    U, V = svd_flip(U, V)\n",
    "    return U, S, V\n",
    "\n",
    "\n",
    "\n",
    "def sample_contrib(X):\n",
    "    \"\"\"\n",
    "    https://docs.scipy.org/doc/scipy/reference/generated/scipy.linalg.svd.html\n",
    "    @param X matrix:  rows = samples, cols = features\n",
    "    @returns matrix:  rows = samples, cols = principal axes contributions to each sample.\n",
    "    \"\"\"\n",
    "    # U:  cols are left singular vectors.  Ie rows are samples.  Cols are principal axes contributions to each sample.\n",
    "    # V:  rows are left singular vectors.  Ie cols are features.  Rows are principal axes contributions to each feature.\n",
    "    U, S, V = svd(X)\n",
    "    \n",
    "    # We want contribution of each sample onto each principal axis.\n",
    "    # From U, rows are samples, cols are principal axes.\n",
    "    # We want principal axis = linear combo of samples\n",
    "    # \n",
    "    return U\n",
    "\n"
   ]
  },
  {
   "cell_type": "code",
   "execution_count": 108,
   "metadata": {},
   "outputs": [
    {
     "data": {
      "text/plain": [
       "(37, 37)"
      ]
     },
     "metadata": {},
     "output_type": "display_data"
    },
    {
     "data": {
      "text/plain": [
       "array([[-0.11317341, -0.17291546,  0.07491815, -0.23900665],\n",
       "       [-0.09047045, -0.04160363,  0.02241763,  0.05854138],\n",
       "       [ 0.264252  , -0.15861296,  0.37745584,  0.36312244],\n",
       "       [ 0.31566779, -0.03357655, -0.27500988,  0.04862982]])"
      ]
     },
     "metadata": {},
     "output_type": "display_data"
    }
   ],
   "source": [
    "# See https://github.com/cran/FactoMineR/blob/master/R/PCA.R\n",
    "# Dimensions:  rows = samples, cols = principal axes\n",
    "sample_loadings = sample_contrib(X=sample_win_depth_df)\n",
    "display(sample_loadings.shape)\n",
    "display(sample_loadings[:4, :4])"
   ]
  },
  {
   "cell_type": "code",
   "execution_count": 102,
   "metadata": {},
   "outputs": [
    {
     "data": {
      "text/plain": [
       "(37,)"
      ]
     },
     "metadata": {},
     "output_type": "display_data"
    },
    {
     "data": {
      "text/plain": [
       "array([ 0.01368648,  0.01401509,  0.0380725 ])"
      ]
     },
     "metadata": {},
     "output_type": "display_data"
    }
   ],
   "source": [
    "# Find mean sample depth\n",
    "ave_sample_depth = sample_loadings.mean(axis=1)\n",
    "display(ave_sample_depth.shape)\n",
    "display(ave_sample_depth[:3])"
   ]
  },
  {
   "cell_type": "code",
   "execution_count": 109,
   "metadata": {},
   "outputs": [
    {
     "data": {
      "text/plain": [
       "(37,)"
      ]
     },
     "metadata": {},
     "output_type": "display_data"
    },
    {
     "data": {
      "text/plain": [
       "(37, 37)"
      ]
     },
     "metadata": {},
     "output_type": "display_data"
    },
    {
     "data": {
      "text/plain": [
       "(1, 37)"
      ]
     },
     "metadata": {},
     "output_type": "display_data"
    },
    {
     "data": {
      "text/plain": [
       "array([[ 0.16666667,  0.16666667,  0.16666667,  0.16666667,  0.16666667,\n",
       "         0.16666667,  0.16666667,  0.16666667,  0.16666667,  0.16666667,\n",
       "         0.16666667,  0.16666667,  0.16666667,  0.16666667,  0.16666667,\n",
       "         0.16666667,  0.16666667,  0.16666667,  0.16666667,  0.16666667,\n",
       "         0.16666667,  0.16666667,  0.16666667,  0.16666667,  0.16666667,\n",
       "         0.16666667,  0.16666667,  0.16666667,  0.16666667,  0.16666667,\n",
       "         0.16666667,  0.16666667,  0.16666667,  0.16666667,  0.16666667,\n",
       "         0.16666667,  0.1638153 ]])"
      ]
     },
     "metadata": {},
     "output_type": "display_data"
    }
   ],
   "source": [
    "display(ave_sample_depth.shape)\n",
    "display(sample_loadings.shape) \n",
    "# Find correlation of each sample contribution to principal axes vs sample depth\n",
    "# We should end up with a correlation coefficient value for each of the 37 principal components.\n",
    "# We need cols = principal axes.  rows = observations = sample contributions\n",
    "corr_sample_ave_depth_pc = colcorr(A=sample_loadings, b=ave_sample_depth)\n",
    "display(corr_sample_ave_depth_pc.shape)\n",
    "display(corr_sample_ave_depth_pc)"
   ]
  },
  {
   "cell_type": "code",
   "execution_count": 110,
   "metadata": {},
   "outputs": [
    {
     "data": {
      "text/plain": [
       "<matplotlib.text.Text at 0x12b55de48>"
      ]
     },
     "execution_count": 110,
     "metadata": {},
     "output_type": "execute_result"
    },
    {
     "data": {
      "image/png": "[encoded data removed]",
      "text/plain": [
       "<matplotlib.figure.Figure at 0x11ebc4cc0>"
      ]
     },
     "metadata": {},
     "output_type": "display_data"
    }
   ],
   "source": [
    "plt.plot(range(0, pca.components_.shape[0]), np.ndarray.flatten(corr_sample_ave_depth_pc))\n",
    "plt.title(\"Correlation\")\n",
    "plt.xlabel(\"Principal Component\")\n",
    "plt.ylabel(\"Corr with Sample Ave Depth\")"
   ]
  }
 ],
 "metadata": {
  "kernelspec": {
   "display_name": "Python 3",
   "language": "python",
   "name": "python3"
  },
  "language_info": {
   "codemirror_mode": {
    "name": "ipython",
    "version": 3
   },
   "file_extension": ".py",
   "mimetype": "text/x-python",
   "name": "python",
   "nbconvert_exporter": "python",
   "pygments_lexer": "ipython3",
   "version": "3.5.3"
  }
 },
 "nbformat": 4,
 "nbformat_minor": 2
}
